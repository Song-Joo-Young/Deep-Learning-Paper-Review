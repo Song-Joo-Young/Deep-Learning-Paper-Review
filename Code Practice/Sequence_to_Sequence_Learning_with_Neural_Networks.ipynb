{
  "nbformat": 4,
  "nbformat_minor": 0,
  "metadata": {
    "colab": {
      "provenance": [],
      "gpuType": "T4"
    },
    "kernelspec": {
      "name": "python3",
      "display_name": "Python 3"
    },
    "language_info": {
      "name": "python"
    },
    "accelerator": "GPU"
  },
  "cells": [
    {
      "cell_type": "code",
      "execution_count": 1,
      "metadata": {
        "colab": {
          "base_uri": "https://localhost:8080/"
        },
        "id": "yw3JuAXERubp",
        "outputId": "14b14ac1-929b-48eb-c311-ff0e2c5ef11a"
      },
      "outputs": [
        {
          "output_type": "stream",
          "name": "stdout",
          "text": [
            "2023-08-27 14:43:20.276269: I tensorflow/core/platform/cpu_feature_guard.cc:182] This TensorFlow binary is optimized to use available CPU instructions in performance-critical operations.\n",
            "To enable the following instructions: AVX2 FMA, in other operations, rebuild TensorFlow with the appropriate compiler flags.\n",
            "2023-08-27 14:43:21.261478: W tensorflow/compiler/tf2tensorrt/utils/py_utils.cc:38] TF-TRT Warning: Could not find TensorRT\n",
            "2023-08-27 14:43:22.834429: I tensorflow/compiler/xla/stream_executor/cuda/cuda_gpu_executor.cc:996] successful NUMA node read from SysFS had negative value (-1), but there must be at least one NUMA node, so returning NUMA node zero. See more at https://github.com/torvalds/linux/blob/v6.0/Documentation/ABI/testing/sysfs-bus-pci#L344-L355\n",
            "2023-08-27 14:43:22.834943: I tensorflow/compiler/xla/stream_executor/cuda/cuda_gpu_executor.cc:996] successful NUMA node read from SysFS had negative value (-1), but there must be at least one NUMA node, so returning NUMA node zero. See more at https://github.com/torvalds/linux/blob/v6.0/Documentation/ABI/testing/sysfs-bus-pci#L344-L355\n",
            "2023-08-27 14:43:22.835136: I tensorflow/compiler/xla/stream_executor/cuda/cuda_gpu_executor.cc:996] successful NUMA node read from SysFS had negative value (-1), but there must be at least one NUMA node, so returning NUMA node zero. See more at https://github.com/torvalds/linux/blob/v6.0/Documentation/ABI/testing/sysfs-bus-pci#L344-L355\n",
            "Collecting en-core-web-sm==3.6.0\n",
            "  Downloading https://github.com/explosion/spacy-models/releases/download/en_core_web_sm-3.6.0/en_core_web_sm-3.6.0-py3-none-any.whl (12.8 MB)\n",
            "\u001b[2K     \u001b[90m━━━━━━━━━━━━━━━━━━━━━━━━━━━━━━━━━━━━━━━━\u001b[0m \u001b[32m12.8/12.8 MB\u001b[0m \u001b[31m23.2 MB/s\u001b[0m eta \u001b[36m0:00:00\u001b[0m\n",
            "\u001b[?25hRequirement already satisfied: spacy<3.7.0,>=3.6.0 in /usr/local/lib/python3.10/dist-packages (from en-core-web-sm==3.6.0) (3.6.1)\n",
            "Requirement already satisfied: spacy-legacy<3.1.0,>=3.0.11 in /usr/local/lib/python3.10/dist-packages (from spacy<3.7.0,>=3.6.0->en-core-web-sm==3.6.0) (3.0.12)\n",
            "Requirement already satisfied: spacy-loggers<2.0.0,>=1.0.0 in /usr/local/lib/python3.10/dist-packages (from spacy<3.7.0,>=3.6.0->en-core-web-sm==3.6.0) (1.0.4)\n",
            "Requirement already satisfied: murmurhash<1.1.0,>=0.28.0 in /usr/local/lib/python3.10/dist-packages (from spacy<3.7.0,>=3.6.0->en-core-web-sm==3.6.0) (1.0.9)\n",
            "Requirement already satisfied: cymem<2.1.0,>=2.0.2 in /usr/local/lib/python3.10/dist-packages (from spacy<3.7.0,>=3.6.0->en-core-web-sm==3.6.0) (2.0.7)\n",
            "Requirement already satisfied: preshed<3.1.0,>=3.0.2 in /usr/local/lib/python3.10/dist-packages (from spacy<3.7.0,>=3.6.0->en-core-web-sm==3.6.0) (3.0.8)\n",
            "Requirement already satisfied: thinc<8.2.0,>=8.1.8 in /usr/local/lib/python3.10/dist-packages (from spacy<3.7.0,>=3.6.0->en-core-web-sm==3.6.0) (8.1.12)\n",
            "Requirement already satisfied: wasabi<1.2.0,>=0.9.1 in /usr/local/lib/python3.10/dist-packages (from spacy<3.7.0,>=3.6.0->en-core-web-sm==3.6.0) (1.1.2)\n",
            "Requirement already satisfied: srsly<3.0.0,>=2.4.3 in /usr/local/lib/python3.10/dist-packages (from spacy<3.7.0,>=3.6.0->en-core-web-sm==3.6.0) (2.4.7)\n",
            "Requirement already satisfied: catalogue<2.1.0,>=2.0.6 in /usr/local/lib/python3.10/dist-packages (from spacy<3.7.0,>=3.6.0->en-core-web-sm==3.6.0) (2.0.9)\n",
            "Requirement already satisfied: typer<0.10.0,>=0.3.0 in /usr/local/lib/python3.10/dist-packages (from spacy<3.7.0,>=3.6.0->en-core-web-sm==3.6.0) (0.9.0)\n",
            "Requirement already satisfied: pathy>=0.10.0 in /usr/local/lib/python3.10/dist-packages (from spacy<3.7.0,>=3.6.0->en-core-web-sm==3.6.0) (0.10.2)\n",
            "Requirement already satisfied: smart-open<7.0.0,>=5.2.1 in /usr/local/lib/python3.10/dist-packages (from spacy<3.7.0,>=3.6.0->en-core-web-sm==3.6.0) (6.3.0)\n",
            "Requirement already satisfied: tqdm<5.0.0,>=4.38.0 in /usr/local/lib/python3.10/dist-packages (from spacy<3.7.0,>=3.6.0->en-core-web-sm==3.6.0) (4.66.1)\n",
            "Requirement already satisfied: numpy>=1.15.0 in /usr/local/lib/python3.10/dist-packages (from spacy<3.7.0,>=3.6.0->en-core-web-sm==3.6.0) (1.23.5)\n",
            "Requirement already satisfied: requests<3.0.0,>=2.13.0 in /usr/local/lib/python3.10/dist-packages (from spacy<3.7.0,>=3.6.0->en-core-web-sm==3.6.0) (2.31.0)\n",
            "Requirement already satisfied: pydantic!=1.8,!=1.8.1,<3.0.0,>=1.7.4 in /usr/local/lib/python3.10/dist-packages (from spacy<3.7.0,>=3.6.0->en-core-web-sm==3.6.0) (2.2.1)\n",
            "Requirement already satisfied: jinja2 in /usr/local/lib/python3.10/dist-packages (from spacy<3.7.0,>=3.6.0->en-core-web-sm==3.6.0) (3.1.2)\n",
            "Requirement already satisfied: setuptools in /usr/local/lib/python3.10/dist-packages (from spacy<3.7.0,>=3.6.0->en-core-web-sm==3.6.0) (67.7.2)\n",
            "Requirement already satisfied: packaging>=20.0 in /usr/local/lib/python3.10/dist-packages (from spacy<3.7.0,>=3.6.0->en-core-web-sm==3.6.0) (23.1)\n",
            "Requirement already satisfied: langcodes<4.0.0,>=3.2.0 in /usr/local/lib/python3.10/dist-packages (from spacy<3.7.0,>=3.6.0->en-core-web-sm==3.6.0) (3.3.0)\n",
            "Requirement already satisfied: annotated-types>=0.4.0 in /usr/local/lib/python3.10/dist-packages (from pydantic!=1.8,!=1.8.1,<3.0.0,>=1.7.4->spacy<3.7.0,>=3.6.0->en-core-web-sm==3.6.0) (0.5.0)\n",
            "Requirement already satisfied: pydantic-core==2.6.1 in /usr/local/lib/python3.10/dist-packages (from pydantic!=1.8,!=1.8.1,<3.0.0,>=1.7.4->spacy<3.7.0,>=3.6.0->en-core-web-sm==3.6.0) (2.6.1)\n",
            "Requirement already satisfied: typing-extensions>=4.6.1 in /usr/local/lib/python3.10/dist-packages (from pydantic!=1.8,!=1.8.1,<3.0.0,>=1.7.4->spacy<3.7.0,>=3.6.0->en-core-web-sm==3.6.0) (4.7.1)\n",
            "Requirement already satisfied: charset-normalizer<4,>=2 in /usr/local/lib/python3.10/dist-packages (from requests<3.0.0,>=2.13.0->spacy<3.7.0,>=3.6.0->en-core-web-sm==3.6.0) (3.2.0)\n",
            "Requirement already satisfied: idna<4,>=2.5 in /usr/local/lib/python3.10/dist-packages (from requests<3.0.0,>=2.13.0->spacy<3.7.0,>=3.6.0->en-core-web-sm==3.6.0) (3.4)\n",
            "Requirement already satisfied: urllib3<3,>=1.21.1 in /usr/local/lib/python3.10/dist-packages (from requests<3.0.0,>=2.13.0->spacy<3.7.0,>=3.6.0->en-core-web-sm==3.6.0) (2.0.4)\n",
            "Requirement already satisfied: certifi>=2017.4.17 in /usr/local/lib/python3.10/dist-packages (from requests<3.0.0,>=2.13.0->spacy<3.7.0,>=3.6.0->en-core-web-sm==3.6.0) (2023.7.22)\n",
            "Requirement already satisfied: blis<0.8.0,>=0.7.8 in /usr/local/lib/python3.10/dist-packages (from thinc<8.2.0,>=8.1.8->spacy<3.7.0,>=3.6.0->en-core-web-sm==3.6.0) (0.7.10)\n",
            "Requirement already satisfied: confection<1.0.0,>=0.0.1 in /usr/local/lib/python3.10/dist-packages (from thinc<8.2.0,>=8.1.8->spacy<3.7.0,>=3.6.0->en-core-web-sm==3.6.0) (0.1.1)\n",
            "Requirement already satisfied: click<9.0.0,>=7.1.1 in /usr/local/lib/python3.10/dist-packages (from typer<0.10.0,>=0.3.0->spacy<3.7.0,>=3.6.0->en-core-web-sm==3.6.0) (8.1.7)\n",
            "Requirement already satisfied: MarkupSafe>=2.0 in /usr/local/lib/python3.10/dist-packages (from jinja2->spacy<3.7.0,>=3.6.0->en-core-web-sm==3.6.0) (2.1.3)\n",
            "\u001b[38;5;2m✔ Download and installation successful\u001b[0m\n",
            "You can now load the package via spacy.load('en_core_web_sm')\n",
            "2023-08-27 14:43:35.764306: I tensorflow/core/platform/cpu_feature_guard.cc:182] This TensorFlow binary is optimized to use available CPU instructions in performance-critical operations.\n",
            "To enable the following instructions: AVX2 FMA, in other operations, rebuild TensorFlow with the appropriate compiler flags.\n",
            "2023-08-27 14:43:36.718105: W tensorflow/compiler/tf2tensorrt/utils/py_utils.cc:38] TF-TRT Warning: Could not find TensorRT\n",
            "2023-08-27 14:43:38.276055: I tensorflow/compiler/xla/stream_executor/cuda/cuda_gpu_executor.cc:996] successful NUMA node read from SysFS had negative value (-1), but there must be at least one NUMA node, so returning NUMA node zero. See more at https://github.com/torvalds/linux/blob/v6.0/Documentation/ABI/testing/sysfs-bus-pci#L344-L355\n",
            "2023-08-27 14:43:38.276576: I tensorflow/compiler/xla/stream_executor/cuda/cuda_gpu_executor.cc:996] successful NUMA node read from SysFS had negative value (-1), but there must be at least one NUMA node, so returning NUMA node zero. See more at https://github.com/torvalds/linux/blob/v6.0/Documentation/ABI/testing/sysfs-bus-pci#L344-L355\n",
            "2023-08-27 14:43:38.276764: I tensorflow/compiler/xla/stream_executor/cuda/cuda_gpu_executor.cc:996] successful NUMA node read from SysFS had negative value (-1), but there must be at least one NUMA node, so returning NUMA node zero. See more at https://github.com/torvalds/linux/blob/v6.0/Documentation/ABI/testing/sysfs-bus-pci#L344-L355\n",
            "Collecting de-core-news-sm==3.6.0\n",
            "  Downloading https://github.com/explosion/spacy-models/releases/download/de_core_news_sm-3.6.0/de_core_news_sm-3.6.0-py3-none-any.whl (14.6 MB)\n",
            "\u001b[2K     \u001b[90m━━━━━━━━━━━━━━━━━━━━━━━━━━━━━━━━━━━━━━━━\u001b[0m \u001b[32m14.6/14.6 MB\u001b[0m \u001b[31m32.7 MB/s\u001b[0m eta \u001b[36m0:00:00\u001b[0m\n",
            "\u001b[?25hRequirement already satisfied: spacy<3.7.0,>=3.6.0 in /usr/local/lib/python3.10/dist-packages (from de-core-news-sm==3.6.0) (3.6.1)\n",
            "Requirement already satisfied: spacy-legacy<3.1.0,>=3.0.11 in /usr/local/lib/python3.10/dist-packages (from spacy<3.7.0,>=3.6.0->de-core-news-sm==3.6.0) (3.0.12)\n",
            "Requirement already satisfied: spacy-loggers<2.0.0,>=1.0.0 in /usr/local/lib/python3.10/dist-packages (from spacy<3.7.0,>=3.6.0->de-core-news-sm==3.6.0) (1.0.4)\n",
            "Requirement already satisfied: murmurhash<1.1.0,>=0.28.0 in /usr/local/lib/python3.10/dist-packages (from spacy<3.7.0,>=3.6.0->de-core-news-sm==3.6.0) (1.0.9)\n",
            "Requirement already satisfied: cymem<2.1.0,>=2.0.2 in /usr/local/lib/python3.10/dist-packages (from spacy<3.7.0,>=3.6.0->de-core-news-sm==3.6.0) (2.0.7)\n",
            "Requirement already satisfied: preshed<3.1.0,>=3.0.2 in /usr/local/lib/python3.10/dist-packages (from spacy<3.7.0,>=3.6.0->de-core-news-sm==3.6.0) (3.0.8)\n",
            "Requirement already satisfied: thinc<8.2.0,>=8.1.8 in /usr/local/lib/python3.10/dist-packages (from spacy<3.7.0,>=3.6.0->de-core-news-sm==3.6.0) (8.1.12)\n",
            "Requirement already satisfied: wasabi<1.2.0,>=0.9.1 in /usr/local/lib/python3.10/dist-packages (from spacy<3.7.0,>=3.6.0->de-core-news-sm==3.6.0) (1.1.2)\n",
            "Requirement already satisfied: srsly<3.0.0,>=2.4.3 in /usr/local/lib/python3.10/dist-packages (from spacy<3.7.0,>=3.6.0->de-core-news-sm==3.6.0) (2.4.7)\n",
            "Requirement already satisfied: catalogue<2.1.0,>=2.0.6 in /usr/local/lib/python3.10/dist-packages (from spacy<3.7.0,>=3.6.0->de-core-news-sm==3.6.0) (2.0.9)\n",
            "Requirement already satisfied: typer<0.10.0,>=0.3.0 in /usr/local/lib/python3.10/dist-packages (from spacy<3.7.0,>=3.6.0->de-core-news-sm==3.6.0) (0.9.0)\n",
            "Requirement already satisfied: pathy>=0.10.0 in /usr/local/lib/python3.10/dist-packages (from spacy<3.7.0,>=3.6.0->de-core-news-sm==3.6.0) (0.10.2)\n",
            "Requirement already satisfied: smart-open<7.0.0,>=5.2.1 in /usr/local/lib/python3.10/dist-packages (from spacy<3.7.0,>=3.6.0->de-core-news-sm==3.6.0) (6.3.0)\n",
            "Requirement already satisfied: tqdm<5.0.0,>=4.38.0 in /usr/local/lib/python3.10/dist-packages (from spacy<3.7.0,>=3.6.0->de-core-news-sm==3.6.0) (4.66.1)\n",
            "Requirement already satisfied: numpy>=1.15.0 in /usr/local/lib/python3.10/dist-packages (from spacy<3.7.0,>=3.6.0->de-core-news-sm==3.6.0) (1.23.5)\n",
            "Requirement already satisfied: requests<3.0.0,>=2.13.0 in /usr/local/lib/python3.10/dist-packages (from spacy<3.7.0,>=3.6.0->de-core-news-sm==3.6.0) (2.31.0)\n",
            "Requirement already satisfied: pydantic!=1.8,!=1.8.1,<3.0.0,>=1.7.4 in /usr/local/lib/python3.10/dist-packages (from spacy<3.7.0,>=3.6.0->de-core-news-sm==3.6.0) (2.2.1)\n",
            "Requirement already satisfied: jinja2 in /usr/local/lib/python3.10/dist-packages (from spacy<3.7.0,>=3.6.0->de-core-news-sm==3.6.0) (3.1.2)\n",
            "Requirement already satisfied: setuptools in /usr/local/lib/python3.10/dist-packages (from spacy<3.7.0,>=3.6.0->de-core-news-sm==3.6.0) (67.7.2)\n",
            "Requirement already satisfied: packaging>=20.0 in /usr/local/lib/python3.10/dist-packages (from spacy<3.7.0,>=3.6.0->de-core-news-sm==3.6.0) (23.1)\n",
            "Requirement already satisfied: langcodes<4.0.0,>=3.2.0 in /usr/local/lib/python3.10/dist-packages (from spacy<3.7.0,>=3.6.0->de-core-news-sm==3.6.0) (3.3.0)\n",
            "Requirement already satisfied: annotated-types>=0.4.0 in /usr/local/lib/python3.10/dist-packages (from pydantic!=1.8,!=1.8.1,<3.0.0,>=1.7.4->spacy<3.7.0,>=3.6.0->de-core-news-sm==3.6.0) (0.5.0)\n",
            "Requirement already satisfied: pydantic-core==2.6.1 in /usr/local/lib/python3.10/dist-packages (from pydantic!=1.8,!=1.8.1,<3.0.0,>=1.7.4->spacy<3.7.0,>=3.6.0->de-core-news-sm==3.6.0) (2.6.1)\n",
            "Requirement already satisfied: typing-extensions>=4.6.1 in /usr/local/lib/python3.10/dist-packages (from pydantic!=1.8,!=1.8.1,<3.0.0,>=1.7.4->spacy<3.7.0,>=3.6.0->de-core-news-sm==3.6.0) (4.7.1)\n",
            "Requirement already satisfied: charset-normalizer<4,>=2 in /usr/local/lib/python3.10/dist-packages (from requests<3.0.0,>=2.13.0->spacy<3.7.0,>=3.6.0->de-core-news-sm==3.6.0) (3.2.0)\n",
            "Requirement already satisfied: idna<4,>=2.5 in /usr/local/lib/python3.10/dist-packages (from requests<3.0.0,>=2.13.0->spacy<3.7.0,>=3.6.0->de-core-news-sm==3.6.0) (3.4)\n",
            "Requirement already satisfied: urllib3<3,>=1.21.1 in /usr/local/lib/python3.10/dist-packages (from requests<3.0.0,>=2.13.0->spacy<3.7.0,>=3.6.0->de-core-news-sm==3.6.0) (2.0.4)\n",
            "Requirement already satisfied: certifi>=2017.4.17 in /usr/local/lib/python3.10/dist-packages (from requests<3.0.0,>=2.13.0->spacy<3.7.0,>=3.6.0->de-core-news-sm==3.6.0) (2023.7.22)\n",
            "Requirement already satisfied: blis<0.8.0,>=0.7.8 in /usr/local/lib/python3.10/dist-packages (from thinc<8.2.0,>=8.1.8->spacy<3.7.0,>=3.6.0->de-core-news-sm==3.6.0) (0.7.10)\n",
            "Requirement already satisfied: confection<1.0.0,>=0.0.1 in /usr/local/lib/python3.10/dist-packages (from thinc<8.2.0,>=8.1.8->spacy<3.7.0,>=3.6.0->de-core-news-sm==3.6.0) (0.1.1)\n",
            "Requirement already satisfied: click<9.0.0,>=7.1.1 in /usr/local/lib/python3.10/dist-packages (from typer<0.10.0,>=0.3.0->spacy<3.7.0,>=3.6.0->de-core-news-sm==3.6.0) (8.1.7)\n",
            "Requirement already satisfied: MarkupSafe>=2.0 in /usr/local/lib/python3.10/dist-packages (from jinja2->spacy<3.7.0,>=3.6.0->de-core-news-sm==3.6.0) (2.1.3)\n",
            "\u001b[38;5;2m✔ Download and installation successful\u001b[0m\n",
            "You can now load the package via spacy.load('de_core_news_sm')\n"
          ]
        }
      ],
      "source": [
        "# spacy 패키지 설치\n",
        "!python -m spacy download en_core_web_sm\n",
        "!python -m spacy download de_core_news_sm"
      ]
    },
    {
      "cell_type": "code",
      "source": [
        "# torchtext 패키지 설치\n",
        "!pip install torchtext\n",
        "\n",
        "# 최신 버전의 Pytorch에서는 Field, BucketIterator 가 torchtext.legacy.data 로 이전되었다고 하는데\n",
        "# torchtext.legacy.data 로 불러와지지 않아서 옛날 버전으로 변경\n",
        "# pip => python package 관리 도구 중\n",
        "!pip install -U torchtext==0.6\n",
        "\n",
        "# 만약에 런타임 재부팅 하라는 메시지가 나오면, 다시 처음부터 위에서부터 실행"
      ],
      "metadata": {
        "colab": {
          "base_uri": "https://localhost:8080/"
        },
        "id": "j8vNND21VG76",
        "outputId": "9fdea8ca-33fd-4edc-c706-91eb7d8ceac7"
      },
      "execution_count": 2,
      "outputs": [
        {
          "output_type": "stream",
          "name": "stdout",
          "text": [
            "Requirement already satisfied: torchtext in /usr/local/lib/python3.10/dist-packages (0.6.0)\n",
            "Requirement already satisfied: tqdm in /usr/local/lib/python3.10/dist-packages (from torchtext) (4.66.1)\n",
            "Requirement already satisfied: requests in /usr/local/lib/python3.10/dist-packages (from torchtext) (2.31.0)\n",
            "Requirement already satisfied: torch in /usr/local/lib/python3.10/dist-packages (from torchtext) (2.0.1+cu118)\n",
            "Requirement already satisfied: numpy in /usr/local/lib/python3.10/dist-packages (from torchtext) (1.23.5)\n",
            "Requirement already satisfied: six in /usr/local/lib/python3.10/dist-packages (from torchtext) (1.16.0)\n",
            "Requirement already satisfied: sentencepiece in /usr/local/lib/python3.10/dist-packages (from torchtext) (0.1.99)\n",
            "Requirement already satisfied: charset-normalizer<4,>=2 in /usr/local/lib/python3.10/dist-packages (from requests->torchtext) (3.2.0)\n",
            "Requirement already satisfied: idna<4,>=2.5 in /usr/local/lib/python3.10/dist-packages (from requests->torchtext) (3.4)\n",
            "Requirement already satisfied: urllib3<3,>=1.21.1 in /usr/local/lib/python3.10/dist-packages (from requests->torchtext) (2.0.4)\n",
            "Requirement already satisfied: certifi>=2017.4.17 in /usr/local/lib/python3.10/dist-packages (from requests->torchtext) (2023.7.22)\n",
            "Requirement already satisfied: filelock in /usr/local/lib/python3.10/dist-packages (from torch->torchtext) (3.12.2)\n",
            "Requirement already satisfied: typing-extensions in /usr/local/lib/python3.10/dist-packages (from torch->torchtext) (4.7.1)\n",
            "Requirement already satisfied: sympy in /usr/local/lib/python3.10/dist-packages (from torch->torchtext) (1.12)\n",
            "Requirement already satisfied: networkx in /usr/local/lib/python3.10/dist-packages (from torch->torchtext) (3.1)\n",
            "Requirement already satisfied: jinja2 in /usr/local/lib/python3.10/dist-packages (from torch->torchtext) (3.1.2)\n",
            "Requirement already satisfied: triton==2.0.0 in /usr/local/lib/python3.10/dist-packages (from torch->torchtext) (2.0.0)\n",
            "Requirement already satisfied: cmake in /usr/local/lib/python3.10/dist-packages (from triton==2.0.0->torch->torchtext) (3.27.2)\n",
            "Requirement already satisfied: lit in /usr/local/lib/python3.10/dist-packages (from triton==2.0.0->torch->torchtext) (16.0.6)\n",
            "Requirement already satisfied: MarkupSafe>=2.0 in /usr/local/lib/python3.10/dist-packages (from jinja2->torch->torchtext) (2.1.3)\n",
            "Requirement already satisfied: mpmath>=0.19 in /usr/local/lib/python3.10/dist-packages (from sympy->torch->torchtext) (1.3.0)\n",
            "Requirement already satisfied: torchtext==0.6 in /usr/local/lib/python3.10/dist-packages (0.6.0)\n",
            "Requirement already satisfied: tqdm in /usr/local/lib/python3.10/dist-packages (from torchtext==0.6) (4.66.1)\n",
            "Requirement already satisfied: requests in /usr/local/lib/python3.10/dist-packages (from torchtext==0.6) (2.31.0)\n",
            "Requirement already satisfied: torch in /usr/local/lib/python3.10/dist-packages (from torchtext==0.6) (2.0.1+cu118)\n",
            "Requirement already satisfied: numpy in /usr/local/lib/python3.10/dist-packages (from torchtext==0.6) (1.23.5)\n",
            "Requirement already satisfied: six in /usr/local/lib/python3.10/dist-packages (from torchtext==0.6) (1.16.0)\n",
            "Requirement already satisfied: sentencepiece in /usr/local/lib/python3.10/dist-packages (from torchtext==0.6) (0.1.99)\n",
            "Requirement already satisfied: charset-normalizer<4,>=2 in /usr/local/lib/python3.10/dist-packages (from requests->torchtext==0.6) (3.2.0)\n",
            "Requirement already satisfied: idna<4,>=2.5 in /usr/local/lib/python3.10/dist-packages (from requests->torchtext==0.6) (3.4)\n",
            "Requirement already satisfied: urllib3<3,>=1.21.1 in /usr/local/lib/python3.10/dist-packages (from requests->torchtext==0.6) (2.0.4)\n",
            "Requirement already satisfied: certifi>=2017.4.17 in /usr/local/lib/python3.10/dist-packages (from requests->torchtext==0.6) (2023.7.22)\n",
            "Requirement already satisfied: filelock in /usr/local/lib/python3.10/dist-packages (from torch->torchtext==0.6) (3.12.2)\n",
            "Requirement already satisfied: typing-extensions in /usr/local/lib/python3.10/dist-packages (from torch->torchtext==0.6) (4.7.1)\n",
            "Requirement already satisfied: sympy in /usr/local/lib/python3.10/dist-packages (from torch->torchtext==0.6) (1.12)\n",
            "Requirement already satisfied: networkx in /usr/local/lib/python3.10/dist-packages (from torch->torchtext==0.6) (3.1)\n",
            "Requirement already satisfied: jinja2 in /usr/local/lib/python3.10/dist-packages (from torch->torchtext==0.6) (3.1.2)\n",
            "Requirement already satisfied: triton==2.0.0 in /usr/local/lib/python3.10/dist-packages (from torch->torchtext==0.6) (2.0.0)\n",
            "Requirement already satisfied: cmake in /usr/local/lib/python3.10/dist-packages (from triton==2.0.0->torch->torchtext==0.6) (3.27.2)\n",
            "Requirement already satisfied: lit in /usr/local/lib/python3.10/dist-packages (from triton==2.0.0->torch->torchtext==0.6) (16.0.6)\n",
            "Requirement already satisfied: MarkupSafe>=2.0 in /usr/local/lib/python3.10/dist-packages (from jinja2->torch->torchtext==0.6) (2.1.3)\n",
            "Requirement already satisfied: mpmath>=0.19 in /usr/local/lib/python3.10/dist-packages (from sympy->torch->torchtext==0.6) (1.3.0)\n"
          ]
        }
      ]
    },
    {
      "cell_type": "code",
      "source": [
        "# 라이브러리/모듈 불러오기\n",
        "\n",
        "import torch\n",
        "import torch.nn as nn\n",
        "import torch.optim as optim\n",
        "\n",
        "from torchtext.datasets import Multi30k\n",
        "from torchtext.data import Field, BucketIterator\n",
        "# Field : 텍스트 데이터를 처리하고 모델에 입력을 공급하기 위한 Field 객체. 텍스트 데이터의 전처리 및 후처리를 정의하는 객체\n",
        "# BucketIterator : 데이터를 미니배치로 나누어주는 역할. 미니배치 크기, 데이터 정렬 방식 등을 설정할 수 있으며\n",
        "#                  주어진 'Field' 객체에 따라 텍스트 데이터를 숫자로 변환하여 반환\n",
        "\n",
        "import spacy\n",
        "import numpy as np\n",
        "\n",
        "import random\n",
        "import math\n",
        "import time"
      ],
      "metadata": {
        "id": "JTTR0o6bUZMB"
      },
      "execution_count": 3,
      "outputs": []
    },
    {
      "cell_type": "code",
      "source": [
        "# 랜덤 SEED 설정\n",
        "SEED = 1234\n",
        "\n",
        "# random 모듈 랜덤 SEED 설정\n",
        "random.seed(SEED)\n",
        "# numpy 패키지 랜덤 모듈 numpy.random 랜덤 SEED 설정\n",
        "np.random.seed(SEED)\n",
        "# 파이토치 CPU 기반 랜덤 모듈 SEED 설정\n",
        "torch.manual_seed(SEED)\n",
        "# 파이토치 CUDA 랜덤 모듈 SEED 설정\n",
        "torch.cuda.manual_seed(SEED)\n",
        "# NVIDA cuDNN을 사용하는 경우 SEED 설정\n",
        "torch.backends.cudnn.deterministic = True"
      ],
      "metadata": {
        "id": "X6m-kXH0UzCj"
      },
      "execution_count": 4,
      "outputs": []
    },
    {
      "cell_type": "code",
      "source": [
        "# 공식 웹 사이트: https://spacy.io/models/de\n",
        "\n",
        "spacy_en = spacy.load('en_core_web_sm') # 영어 토큰화(tokenization)\n",
        "spacy_de = spacy.load('de_core_news_sm') # 독일어 토큰화(tokenization)"
      ],
      "metadata": {
        "id": "T0BG1zbGeaIW"
      },
      "execution_count": 5,
      "outputs": []
    },
    {
      "cell_type": "code",
      "source": [
        "# 간단한 토큰화(tokenization) 기능\n",
        "# 문장에 존재하는 각 word 레벨을 토큰으로, 고유한 인덱스를 부여\n",
        "# 토큰(token) 에는 중요한 의미를 담는 어떤 데이터도 해당될 수 있음\n",
        "\n",
        "tokenized = spacy_en.tokenizer(\"Song computer engineering tistory blog!  Song electric engineering naver blog.\")\n",
        "\n",
        "for i, token in enumerate(tokenized):\n",
        "    print(f\"인덱스 {i}: {token.text}\")\n",
        "\n",
        "# 토큰화를 통해 문장을 단어의 나열(sequence of word)가 아닌 토큰의 나열(sequence of token)으로 해석\n",
        "# token과 word 의 다른 점 : Song, computer, engineering, blog 등은 word 이면서 token 이지만, !, ., , 는 word는 아니고 token 이다."
      ],
      "metadata": {
        "colab": {
          "base_uri": "https://localhost:8080/"
        },
        "id": "mImTiPBtefC3",
        "outputId": "4381616a-ffee-4d3f-8e97-3ad2d5a639bb"
      },
      "execution_count": 8,
      "outputs": [
        {
          "output_type": "stream",
          "name": "stdout",
          "text": [
            "인덱스 0: Song\n",
            "인덱스 1: computer\n",
            "인덱스 2: engineering\n",
            "인덱스 3: tistory\n",
            "인덱스 4: blog\n",
            "인덱스 5: !\n",
            "인덱스 6:  \n",
            "인덱스 7: Song\n",
            "인덱스 8: electric\n",
            "인덱스 9: engineering\n",
            "인덱스 10: naver\n",
            "인덱스 11: blog\n",
            "인덱스 12: .\n"
          ]
        }
      ]
    },
    {
      "cell_type": "code",
      "source": [
        "# seq2seq 논문에서는 입력 문장을 넣을 때 토큰 순서를 바꿔서 넣기 때문에 문장을 입력으로 받아 토큰화 후 뒤집어 반환하는 토큰화 함수 정의\n",
        "# 독일어 → 영어 번역을 진행하기 때문에 독일어만 뒤집는다. (인코더에 들어가는 입력 데이터)\n",
        "\n",
        "# 독일어(Deutsch) 문장을 토큰화한 뒤에 순서를 뒤집는 함수\n",
        "def tokenize_de(text):\n",
        "    return [token.text for token in spacy_de.tokenizer(text)][::-1]\n",
        "\n",
        "# 영어(English) 문장을 토큰화 하는 함수\n",
        "def tokenize_en(text):\n",
        "    return [token.text for token in spacy_en.tokenizer(text)]\n",
        "\n",
        "tokenized = tokenize_en(\"Seq2Seq paper Code Pratice with Song.\")\n",
        "print(tokenized) # 문장이 들어오면, 단어 단위, 특수문자 단위로 쪼개준다고 생각하면 편함."
      ],
      "metadata": {
        "colab": {
          "base_uri": "https://localhost:8080/"
        },
        "id": "ny7Aef_4fNan",
        "outputId": "88352e78-2167-4ed9-b124-53de007ed63c"
      },
      "execution_count": 12,
      "outputs": [
        {
          "output_type": "stream",
          "name": "stdout",
          "text": [
            "['Seq2Seq', 'paper', 'Code', 'Pratice', 'with', 'Song', '.']\n"
          ]
        }
      ]
    },
    {
      "cell_type": "code",
      "source": [
        "# 토큰화 인수를 각각에 대한 토큰화 함수로 정의\n",
        "# init_token: <sos> 토큰\n",
        "# eos_token: <eos> 토큰\n",
        "# lower : 모두 소문자로 처리 → 전체 토큰 수를 줄일 수 있기 때문에 모두 소문자로 처리\n",
        "# 독일어는 Tource(SRC) Field\n",
        "# 영어는 Target(TRG) Field\n",
        "\n",
        "SRC = Field(tokenize = tokenize_de,\n",
        "            init_token = '<sos>',\n",
        "            eos_token = '<eos>',\n",
        "            lower = True)\n",
        "\n",
        "TRG = Field(tokenize = tokenize_en,\n",
        "            init_token = '<sos>',\n",
        "            eos_token = '<eos>',\n",
        "            lower = True)"
      ],
      "metadata": {
        "id": "_J2dqGu3hD-v"
      },
      "execution_count": 15,
      "outputs": []
    },
    {
      "cell_type": "code",
      "source": [
        "import torchtext\n",
        "\n",
        "# 현재 다운로드 링크가 동작하지 않으므로, 동작되는 URL로 변경, 변경해도 text_dataset은 다운되지 않아 train, valid 만 다운로드\n",
        "torchtext.datasets.Multi30k.urls = [\n",
        "    r\"https://raw.githubusercontent.com/neychev/small_DL_repo/master/datasets/Multi30k/training.tar.gz\",\n",
        "    r\"https://raw.githubusercontent.com/neychev/small_DL_repo/master/datasets/Multi30k/validation.tar.gz\",\n",
        "    r\"https://raw.githubusercontent.com/neychev/small_DL_repo/master/datasets/Multi30k/mmt16_task1_test.tar.gz\",\n",
        "]\n",
        "\n",
        "print(torchtext.datasets.Multi30k.urls)"
      ],
      "metadata": {
        "colab": {
          "base_uri": "https://localhost:8080/"
        },
        "id": "CbKeHUzVhuga",
        "outputId": "4d358d6c-e8dd-4c89-854f-e91c0ebf435b"
      },
      "execution_count": 18,
      "outputs": [
        {
          "output_type": "stream",
          "name": "stdout",
          "text": [
            "['https://raw.githubusercontent.com/neychev/small_DL_repo/master/datasets/Multi30k/training.tar.gz', 'https://raw.githubusercontent.com/neychev/small_DL_repo/master/datasets/Multi30k/validation.tar.gz', 'https://raw.githubusercontent.com/neychev/small_DL_repo/master/datasets/Multi30k/mmt16_task1_test.tar.gz']\n"
          ]
        }
      ]
    },
    {
      "cell_type": "code",
      "source": [
        "from torchtext.datasets import Multi30k\n",
        "\n",
        "# 총 30,000개의 (독일어, 영어) 쌍으로 구성된 데이터 세트\n",
        "train_dataset, valid_dataset = Multi30k.splits(exts=(\".de\", \".en\"),\n",
        "                                               fields=(SRC, TRG),\n",
        "                                               root='.custom_data',\n",
        "                                               train=\"train\",\n",
        "                                               validation=\"val\",\n",
        "                                               test=None)"
      ],
      "metadata": {
        "id": "JJ2Gh2BeiVyd"
      },
      "execution_count": 21,
      "outputs": []
    },
    {
      "cell_type": "code",
      "source": [
        "print(f\"학습 데이터셋(training dataset) 크기: {len(train_dataset.examples)}개\")\n",
        "print(f\"평가 데이터셋(validation dataset) 크기: {len(valid_dataset.examples)}개\")"
      ],
      "metadata": {
        "colab": {
          "base_uri": "https://localhost:8080/"
        },
        "id": "P7Z3ZqENiz4r",
        "outputId": "70b27d08-0017-43c3-ebd4-a1cf201b976e"
      },
      "execution_count": 22,
      "outputs": [
        {
          "output_type": "stream",
          "name": "stdout",
          "text": [
            "학습 데이터셋(training dataset) 크기: 29000개\n",
            "평가 데이터셋(validation dataset) 크기: 1014개\n"
          ]
        }
      ]
    },
    {
      "cell_type": "code",
      "source": [
        "# 학습 데이터 중 하나를 선택해 출력\n",
        "print(vars(train_dataset.examples[30])['src']) # 순서를 바꿨기 때문에, 온점이 제일 첫째로 나온다.\n",
        "print(vars(train_dataset.examples[30])['trg']) # 정상적인 순서"
      ],
      "metadata": {
        "colab": {
          "base_uri": "https://localhost:8080/"
        },
        "id": "x1ZLXSvUjDxW",
        "outputId": "4e2f159e-b280-433f-d1ad-7f2149036401"
      },
      "execution_count": 25,
      "outputs": [
        {
          "output_type": "stream",
          "name": "stdout",
          "text": [
            "['.', 'steht', 'urinal', 'einem', 'an', 'kaffee', 'tasse', 'einer', 'mit', 'der', ',', 'mann', 'ein']\n",
            "['a', 'man', 'standing', 'at', 'a', 'urinal', 'with', 'a', 'coffee', 'cup', '.']\n"
          ]
        }
      ]
    },
    {
      "cell_type": "code",
      "source": [
        "# 최소 두 번 이상 등장한 단어만 기록\n",
        "SRC.build_vocab(train_dataset, min_freq=2)\n",
        "TRG.build_vocab(train_dataset, min_freq=2)\n",
        "\n",
        "print(f\"len(SRC): {len(SRC.vocab)}\")\n",
        "print(f\"len(TRG): {len(TRG.vocab)}\")\n",
        "\n",
        "# 한 번만 등장하는 희소한 단어는? unk 토큰으로 처리된다.\n",
        "# 자연어 처리 분야에서 \"특수 토큰\"은 보통 4가지가 존재\n",
        "  # 1) sos : 문장의 시작을 알림\n",
        "  # 2) eos : 문장의 끝을 알림\n",
        "  # 3) unk : 처음 보는 단어를 알림\n",
        "  # 4) pad : 짧은 문장의 경우 뒤쪽을 패딩 토큰으로 채움"
      ],
      "metadata": {
        "colab": {
          "base_uri": "https://localhost:8080/"
        },
        "id": "sCtGr8fCjHME",
        "outputId": "08c09487-5aad-4966-913a-468ff6e3baee"
      },
      "execution_count": 29,
      "outputs": [
        {
          "output_type": "stream",
          "name": "stdout",
          "text": [
            "len(SRC): 7853\n",
            "len(TRG): 5893\n"
          ]
        }
      ]
    },
    {
      "cell_type": "code",
      "source": [
        "# string to index (stoi)\n",
        "print(TRG.vocab.stoi[\"abcabc\"]) # 없는 단어: 0\n",
        "print(TRG.vocab.stoi[TRG.pad_token]) # 패딩(padding): 1\n",
        "print(TRG.vocab.stoi[\"<sos>\"]) # <sos> 토큰 : 2\n",
        "print(TRG.vocab.stoi[\"<eos>\"]) # <eos> 토큰 : 3\n",
        "print(TRG.vocab.stoi[\"hello\"]) # 있는 단어는 해당 인덱스가 나타난다.\n",
        "print(TRG.vocab.stoi[\"world\"])"
      ],
      "metadata": {
        "colab": {
          "base_uri": "https://localhost:8080/"
        },
        "id": "LoJcvpTLjWOs",
        "outputId": "6fdc206a-d1aa-46e2-fd17-c486ee0a1737"
      },
      "execution_count": 34,
      "outputs": [
        {
          "output_type": "stream",
          "name": "stdout",
          "text": [
            "0\n",
            "1\n",
            "2\n",
            "3\n",
            "4112\n",
            "1752\n"
          ]
        }
      ]
    },
    {
      "cell_type": "code",
      "source": [
        "# torch.device 정의\n",
        "# torchText 에게 텐서를 GPU에 넣었는지의 여부를 알려주는 데 사용\n",
        "# GPU가 감지되면 True를 반환하는 torch.cuda.is_available() 함수 사용\n",
        "\n",
        "device = torch.device('cuda' if torch.cuda.is_available() else 'cpu')\n",
        "\n",
        "\n",
        "# Iterator 정의\n",
        "# src attribute(숫자화된 소스 문장의 텐서)와 trg attribute(숫자화된 타깃 문장의 텐서)를 가지는 data batch를 반환\n",
        "# 문장들에서 패딩의 양을 최소화하는 방식으로 배치를 만들기 위해 표준 Iterator 대신 BucketIterator 사용\n",
        "\n",
        "BATCH_SIZE = 128\n",
        "\n",
        "# 일반적인 데이터 로더(data loader)의 iterator와 유사하게 사용 가능\n",
        "train_iterator, valid_iterator = BucketIterator.splits(\n",
        "    (train_dataset, valid_dataset),\n",
        "    batch_size=BATCH_SIZE,\n",
        "    device=device)"
      ],
      "metadata": {
        "id": "qAS0FdyAkHUt"
      },
      "execution_count": 35,
      "outputs": []
    },
    {
      "cell_type": "code",
      "source": [
        "# Iterator 확인해보기\n",
        "for i, batch in enumerate(train_iterator):\n",
        "    src = batch.src\n",
        "    trg = batch.trg\n",
        "\n",
        "    print(f\"첫 번째 배치 크기: {src.shape}\")\n",
        "\n",
        "    # 현재 배치에 있는 하나의 문장에 포함된 정보 출력\n",
        "    for i in range(src.shape[0]):\n",
        "        print(f\"인덱스 {i}: {src[i][0].item()}\")\n",
        "\n",
        "    # 첫 번째 배치만 확인\n",
        "    break\n",
        "\n",
        "\n",
        "# 첫 번째 배치 크기: torch.Size([27, 128])\n",
        "# 현재 배치에 포함된 문장의 수가 128개 (batch_size = 128)\n",
        "# 27 이 의미하는 것은 128개의 문장 중 가장 긴 문장의 토큰 개수를 의미"
      ],
      "metadata": {
        "colab": {
          "base_uri": "https://localhost:8080/"
        },
        "id": "0mzLG9tumRLB",
        "outputId": "806f299d-92ae-46d8-c2f5-c782c4bd4edf"
      },
      "execution_count": 37,
      "outputs": [
        {
          "output_type": "stream",
          "name": "stdout",
          "text": [
            "첫 번째 배치 크기: torch.Size([33, 128])\n",
            "인덱스 0: 2\n",
            "인덱스 1: 4\n",
            "인덱스 2: 93\n",
            "인덱스 3: 1784\n",
            "인덱스 4: 20\n",
            "인덱스 5: 998\n",
            "인덱스 6: 17\n",
            "인덱스 7: 101\n",
            "인덱스 8: 17\n",
            "인덱스 9: 35\n",
            "인덱스 10: 9\n",
            "인덱스 11: 214\n",
            "인덱스 12: 33\n",
            "인덱스 13: 12\n",
            "인덱스 14: 217\n",
            "인덱스 15: 67\n",
            "인덱스 16: 8\n",
            "인덱스 17: 3\n",
            "인덱스 18: 1\n",
            "인덱스 19: 1\n",
            "인덱스 20: 1\n",
            "인덱스 21: 1\n",
            "인덱스 22: 1\n",
            "인덱스 23: 1\n",
            "인덱스 24: 1\n",
            "인덱스 25: 1\n",
            "인덱스 26: 1\n",
            "인덱스 27: 1\n",
            "인덱스 28: 1\n",
            "인덱스 29: 1\n",
            "인덱스 30: 1\n",
            "인덱스 31: 1\n",
            "인덱스 32: 1\n"
          ]
        }
      ]
    },
    {
      "cell_type": "markdown",
      "source": [
        "### **Building the Seq2Seq Model**\n",
        "---"
      ],
      "metadata": {
        "id": "WPgPlVh9pA3W"
      }
    },
    {
      "cell_type": "code",
      "source": [
        "# 인코더(Encoder) 아키텍처 정의\n",
        "class Encoder(nn.Module):\n",
        "    def __init__(self, input_dim, embed_dim, hidden_dim, n_layers, dropout_ratio):\n",
        "        super().__init__()\n",
        "\n",
        "        # 임베딩(embedding)은 원-핫 인코딩(one-hot encoding)을 특정 차원의 임베딩으로 매핑하는 레이어\n",
        "        self.embedding = nn.Embedding(input_dim, embed_dim)\n",
        "\n",
        "        # LSTM 레이어\n",
        "        self.hidden_dim = hidden_dim\n",
        "        self.n_layers = n_layers\n",
        "        self.rnn = nn.LSTM(embed_dim, hidden_dim, n_layers, dropout=dropout_ratio)\n",
        "\n",
        "        # 드롭아웃(dropout)\n",
        "        self.dropout = nn.Dropout(dropout_ratio)\n",
        "\n",
        "    # 인코더는 소스 문장을 입력으로 받아 context vector 를 반환\n",
        "    def forward(self, src):\n",
        "        # src: [단어 개수, 배치 크기]: 각 단어의 인덱스(index) 정보\n",
        "        # 각 토큰별로 |V| 크기의 one-hot 벡터\n",
        "        embedded = self.dropout(self.embedding(src))\n",
        "        # embedded: [단어 개수, 배치 크기, 임베딩 차원]\n",
        "\n",
        "        outputs, (hidden, cell) = self.rnn(embedded)\n",
        "        # outputs: [단어 개수, 배치 크기, 히든 차원]: 현재 단어의 출력 정보\n",
        "        # hidden: [레이어 개수, 배치 크기, 히든 차원]: 현재까지의 모든 단어의 정보. 각 계층의 최종 hidden state\n",
        "        # cell: [레이어 개수, 배치 크기, 히든 차원]: 현재까지의 모든 단어의 정보. 각 계층의 최종 cell state\n",
        "\n",
        "        # hidden, cell 은 가장 마지막 토큰을 넣었을 때 나온 hidden state가 되고, 이것이 디코더의 초기 입력이 된다.\n",
        "\n",
        "        # context vector 반환\n",
        "        return hidden, cell"
      ],
      "metadata": {
        "id": "h0EM7S7bo9qh"
      },
      "execution_count": 39,
      "outputs": []
    },
    {
      "cell_type": "markdown",
      "source": [
        "![seq2seq2.png](data:image/png;base64,iVBORw0KGgoAAAANSUhEUgAAAg8AAAFWCAYAAADuTH4AAAAAAXNSR0IArs4c6QAAB016VFh0bXhHcmFwaE1vZGVsAABNVseOtDgQfpqRdg8zIocjNDlDN/GyIuecefqFnf+wEjJ2JX+uKpfrC361R1Y26RcEtH1SZmWafMHMFwRBAAR8A+A3BH5A8AumYOweIOQHR5HgZt/yRT8vv7L7vv8kU7j/lP0vK8zT7g9P7a+yacIviEN/gJv1l/eYo++ZUnbrcf8PAvsHQ/6+Z9QwNKmbRnK5PPIw/nPveqvIwkdVvqDXPW/K+sHKp3HdPyqvYurbm8Jh5A/wAyMk/kM+CN5hFk7l/6w8xHQJ819UogZuIvd9CjHWw7uIdL5l/cps6TSXffcrBkI/6A/6y1jOIf2lJulWxulDhdkv+JWUYT6F7S1S/vFdgmMQkcLJNwFE6TdAgsB3EmXIN4lmSUhiCUkA2a/RLmz/GDVun32Dv0Zx51gqdEZYAwFrr8+S3IZYo0QuF43GJB3XCR6hmuioHCukTyF0LPz2YIL/qC9C4o+RUebCbbvDpy4VIeILQZuaatPpdke2iV5J3BPfijkWeyFfEL23RLe/8k8OcTejn5sCfJcy1I/ES8mCADz30LgZr4stVgKPbo0SD2MakI5cOED8MneXFwVVkfBX9dJxPKLyjPCSFCrO8WURsT4u0rO1FM82VksVd90mqKxL1Wm9wqYa2qh7Am6Y5UbBd3Zxb59SBslIu6EJIP3QodNd+gUe3wWa3Ox8zyNV9FExnTL/4tQ3diVvV16LZCe7KgbiXuKBNdeaq2YNCJ/LZmwZjRUzACa3unBoorSliGlwlKmWtG4cigEdrDT8G9f9Of7tFa5A4TXxKqcuy/1KICtRxOsAHPY5Cp6bOTprTR7tbSsWpyVlwR5SDzZ/Otr9JPe3hgfyc1BxIGM1OtXMyszGGNVEJzrepuBwGvs6hRKsj7WUn2gpqOPUn8Bc7ifHjkp1zFhyLxfWQyyo5Oic/XriQ0vdVUMtwqSzQ+hUBea6ZlX7gDeniUGytHCSfyCmECgdxghLABGXiJx1nvI2znqQtGhMQEXsymeh6DPCy4XzV+ibp+HChGjkvRKDgTCEM8HtJkoomKkViEStKEihZsPROmiEw5nQ5hApSV5S18eFV9e+7I9CNfMFpWROy6vvvZzNl2zY/WToIbJVnPTWfdfp09DlARNGS2k/pvlZyxJ9fIST1AZhDnhxFG+IlSUT8rsOuNRhmbui0Fa5mSQ1tPAQ5jMlxp13E2ua6gQmD9raKlRH6lrCvaDR1qADwOZMS7UINBTXQ6FFlhdeyzcNDEOoRy+T+nQNlxm6reooRpWVp/F0pDpDqxuDMWvmmX4SqT/SvuASnOnFdnp93M8EyePj/0vAStV1JjPOZht4gqIqS5NVSWGGTGD3l6t4RQPxmz+L7Ow7r1RQ7VR/92PC214sCW3oq/KoDm/YGhwWCDB1fYdBsNt0bvLvi7Hhyxsxd2z8MwUWcHQzb7OAtI5W7mM+KaqX1Kmj5pJt+V2baAEtYX+LmO3ESC7T1QUXg81yjkGyw5RLYPlszVcYrjdSwDT4oH+KcTaDwF3xOJtkmMlEsm6dm6y+raXttDZyYoNpS6Fn9+Ln05mCTz3E9SM+XU1xVWNcd0RhR61Q9GhNENMAhod5a9sIkBm4XZqd+CzXDUogtyvJCVvWWJAnLRT16MN6uoX5o6KGhAq+hHa6zrWJ4Cq5uvbj2C+kYuFjh1qHIsBkwecb4JKiw3HXc1oOVg92aj3WW9BRp0HFtMDph8WPkjh4L+p8kow8+ARv6bUbcnJT5fcV6xHYXt95JWveWFL3QXjvDMChctwBz7AA1Igz4XNzjLErXvR3WDWKOxyy381NHDo42gV0WE/drdhi+jvAeVxcOgIxHBVxXsuZ8kpaFzzKeP2BBiGzqkrGRkCTPAkTNbuOlpc0lweF7PRl8zo7f/Lz0BSNKDf8ZO+c25/KO1TsG19r3bSae9n0yRwI/iDsB7kaIT2Qt7Ft3e7xKeB03PEdDFYaakEHNJWSb5zwkbRSC0AlwGyh+fHc/woat9feIZzB1m71JCfGgJeDeL/FnFzaJRYCYVi/edvK61zz4Vn8gAs7TM79wNH9HenncY3G850K/Qh4AGhxJD1OqX6TB5CNJJPU7JIknQmdsCK+lehoc7Ut8QFS5kVjKhrcseYnb/n+wSO4glGeJYMRQebQIbmnVNYATd4wwPJWMKhyKwZ9Lvgq3wMLDurZkriGQ1ndHwFZZDjToBfOmFwqNAiJavLbawdmlgZzSgBPW6vjQYz7OrvLuSswztW+rQ4NgGrYZ8l+Lbg61NywBClnLY7lm7kyorQBdlqwV1FbgJgJ3q8gxyqhZI9cwPjlAhy9eWoLG7pMijkTXntdbPBP25G0xXbQG+/sp/DBj/OmJQhVcgkXllaKXOcmxzK1WdLGix3BAS+CGMkPyT5RBC6XFp9kRFIXd13mCA4b6TqoqOFKV+hrqYUWbjcojYNeOAUE4u9OgSOYu+l4tvnTd/zXhDyZ+dvIwey/wYDMcAAAIABJREFUeJzt3Xl0VGWC/vEnEiABCkWhWA0a0nFIEBQbZMzIEkXxgCKgjL8gTaZVFNr2tMiOQjIKsigqAori0ETciOACqBiaTdZWRDECQoILBEyA0N3ZUyHv7w8mNZRJoG5uhaoU3885OYfcuvXet55Uhadu3XsTYowxAgLA7t27lZGRoY4dO6pTp051bnx/Iz/fI1PvkdVFxgAB4OmnnzYOh8M4HA4jycyaNatOje9v5Od7ZOo9srr4XOK/2oJglpGRUeXyEydOVFqWm5urrKws5ebmKicnR0OHDtWECRPkcrl8Mhdvxt+/f79MAO2EIz/fI1PvkRXOh/IAnyouLtbIkSP1+eefu5dlZ2dr2LBhatq0qVq0aKGysjKP+2RlZSkpKUmhoaEKCwvT/fffL0k+++XjzfirVq3S/fffr5KSEp9ss6bIz/fI1HtkBa/5d8cHgklubq7p1q2bmTNnTqXbDh48aCSZgQMHnnecBQsWmL59+9bGFM85/vTp003fvn1NUVFRrW37XMjP98jUe2QFKygP8JnExERzxx13VHnbsmXLjCQzf/78c45RWlpqevfubdLT02tjiucdv3fv3mbixIm1su3zIT/fI1PvkRWsoDzAJ1avXm0kmb1791Z5+wMPPGAkme++++6c40yePNksW7asNqbo1fg7d+40ksyuXbtqbQ5VIT/fI1PvkRWsojzAJ3r06GGio6Orvb1du3bG4XCY8vJyc/DgQfP444+bUaNGmfz8fPc6y5YtMy+88IL7+5rsfiwtLTXLly83jzzyiElISDAbNmywPL7T6TQPPfSQ5W3bQX6+R6beIytYRXmAbUeOHDGSzCOPPFLl7YcOHTKSzPDhw82XX35pnE6n+5SrtLQ0Y4wxH3/8sRkyZIjZs2eP2bNnj0lLSzPjxo2zNI8TJ06Y+Ph4061bN5OWlmYef/xx43A4TGFhoaXx7733XiPJFBQUWAuihsjP98jUe2SFmqA8wLa0tDQjyUybNq3K21NSUowkk5ycbGJiYsz+/fvNhAkTjCTz5Zdfmh07dhhJlb42bdrk9RxOnz5tevToYZxOp/n111+NMcZ07drVOBwOs3XrVkvjP/7440aS2bNnj/UwaoD8fI9MvUdWqIlQ787JAKr366+/SpKaNGlS5e3r16+XJD333HNavXq1rrnmGu3cuVOSFBsbq/DwcNvnaKekpGjHjh1asGCBWrZsKUlKTU1VkyZN5HQ6LY1f8TiOHDmia6+91ta8vEF+vkem3iMr1ATlAbbVq1dPkqp9gX/yySeSpLFjx6pnz54qLCzUxo0bFR8fr/DwcJ/MYfHixZKkoUOHupdFRkbWaKyKx3OhkJ/vkan1sckKVnCRKNgWEREhScrPz690W0ZGhnJychQZGanx48dLknbs2CFJio+P98n2y8rKtHXrVjmdTjVv3tz2eHl5eZKkzp072x7LG+Tne77K9NSpU1q5cqW+++47S9v3NlNvx6/NTHn+oSYoD7Ct4h1CVlZWpdu++OILSdL48eMVFhYmSdqyZYskqVevXvrpp5881j927Fi1l8Y9fPhwlb/gTp8+LUkqKiryePdUVFSk9PR0r8evcPLkSTkcDrVt2/ac6/mKr/LbvXu3UlNTKz3mCnbzO9/4FS50flXxRaZvvvmmBg8erMWLF6tz585atmxZpbHsZOrN+BVqM1Nfvn4l6dtvv63yNeaL1++5xq8QCM+/i8KFP8wCwahv374mMjKy0vLhw4cbSeann35yL4uPjzeSzMiRI82SJUuMMWeubjd58mQjybzxxhuVxnn33XeNJI8Dqs42cOBAI8lMmjTJpKenmxUrVpj4+Hizc+dOr8Y/W2RkpLnzzjstPX677OZ3vj8cZDc/K3+YyB/5VcVOprm5uSY5Odl9+4gRIypdXdFOpt6Mf7baztTu86/C8ePHjdPpNG+++abHcrvPv/ONf7ZAef4FO8oDfOL999+v8iIzTqez0i+lil8+s2fPdi8rLCw0ubm51f7nvmXLFvdR1h9++GGl2//+97+7/2PT/15Gd//+/V6PXyEjI8NIMp9++qnXj90X7OR38uRJ88gjjxiXy2WKiorM0KFDjSRTWlrqvo+d/LwZv4K/8quK3edkeXm5+98JCQnm9ddf97iP3efk+cavcCEytZtVhcTERONwOCr95243q/ONXyGQnn/BjvIAnygvLzf9+/c3gwYNOu+6J06cMMeOHavyNqfTWe1/7idOnDBdu3Y1R48erfJ2l8tlvv/+e1NYWFjtts81vjHGDB061CQmJp5j9rXDTn579uzxeDf38ccfV3mee03z83Z8Y/yXX1V88ZwsKioyzz//vImMjKwyN7vPyfONb8yFydQXWb3xxhvmnXfeMZ07d67yP3e7WZ1vfGMC6/kX7DjmAT4REhKiJUuWaOvWrUpJSTnnuldccYVatWpleRtLly5V9+7d1bp16ypvDw0NVUxMTI2PAE9JSdH+/fs1d+7cGt3fDjv5XXvtte7T26Qzny337dtXjRo18rhfTfPzdnx/5lcVXzwnP/vsM2VmZurQoUPuv+Z4NrvPyfONf6EytZtVRkaGtm3bpvvuu6/a+9nJypvxA+35F/T83V4QXLKyskxcXJxZvnx5je5f3Z6B7Oxs8/zzz3vs6vXl+EuXLjX33Xefx+V2/cFuftX94SBf5Vfd+IGSX1XsZmrM/11I6ex33L7KtLrx/ZFpTbIqLS01gwYNMrm5ucYYU+WeATtZeTN+ID//ghXXeYBPtWnTRuvXr9dXX33l03GdTqfGjBnj0zHPFh0dreHDhyskJKTWtuENu/klJSXpwQcfVGxsrMdyX+VX3fiBkl9VfPGcvPnmmyVJDRs2dC/z5XOyqvH9kWlNspo7d66uuuoq9ymcubm5+uabbxQZGambbrpJkr2svBk/kJ9/wYryAJ9r0KCB+0VdV/To0cPfU3CraX5vvfWWWrRooWHDhkmSiouL3afX+cK5xg+k/KpSk0x//vlntW/fXpK0bds29e/fX82aNfPZnM43vr8ytZpV48aNdejQIS1atEjSmSs7pqWlqX79+j75PeDN+IH+/AtGlAcEDGOMioqKVF5eXifH96dVq1bpgw8+0LRp0/Tdd98pOztbn3/+uWbPnl0nxg80v/zyi6666irFx8erW7du+uc//6k333yzzox/IT366KN69NFH3d936dJF48aNq/IYjkAcHzVDeUBAOHXqlJKSkpSXl6fXXntNERERuu222+rM+P60c+dO3XXXXZKkFStWuJdv2rSpTowfiCIiIlRQUKBjx44pIiJC9evXr1Pj+1ttXyKaS1D7X4gxNv+iCQAAuKhwqiYAALCE8gAAACyhPAAAAEsoDwAAwBLKAwAAsITyAAAALKE8AAAASygPAADAEsoD6gSXy6WEhAS5XC5/T6VOIj97yM8e8gs+lAfUCXPmzNGKFSuC9m8p1Dbys4f87CG/4MPlqVEnhIWFqaSkRA0aNFBJSYm/p1PnkJ895GcP+QUf9jwg4M2YMcP975CQEE2fPt2Ps6l7yM8e8rOH/IITex4Q8CretVTg3Ys15GcP+dlDfsGJPQ8IaGe/a6nAuxfvkZ895GcP+QUv9jwgoDVs2FChoaFq0qSJcnJy5HQ6lZ+fL5fLpdLSUn9PL+CRnz3kZw/5BS/2PCBgrVu3TuHh4Vq0aJGys7MlSdnZ2Vq0aJEaN26stLQ0P88wsJGfPeRnD/kFN/Y8oM4ICQkRT9eaIz97yM8e8gsu7HkAAACWUB4AAIAllAcAAGAJ5QEAAFhCeQAAAJZQHgAAgCWUBwAAYAnlAQAAWEJ5AAAAllAeAACAJZQHAABgCeUBAABYQnkAAACWUB4AAIAllAcAAGAJ5QEAAFhCeQAAAJZQHgAAgCWUBwAAYAnlAQAAWEJ5AAAAllAeAACAJZQHAABgCeUBAABYQnkAAACWUB4AAIAllAcAAGAJ5QEAAFhCeQAAAJZQHgAAgCUhxhjj70kgOD29+mF/T+G8nhqwyN9TqJav89vwzi71+X83+HRM8rOH/OwJ5PzW3jvI31M4r9tTP6jxfUN9OA+gkiHdHvP3FKq14st5/p7CefkyvyHdfDaUJPKzi/zsqQv59Z78pL+nUK2NM56xdX8+tgAAAJZQHgAAgCWUBwAAYAnlAQAAWEJ5AAAAllAeAACAJZQHAABgCdd5+I3du3crIyNDHTt2VKdOnerc+AAA1Db2PJzlmWeeUa9evfTAAw/o2muv1ezZs+vU+AAAXAhBXR4yMjKqXH7ixIlKy3Jzc5WVlaXc3Fzl5ORo6NChmjBhglwul0/m4s34+/fvF1cLBwBU59jxE3rxzWWauzRF/8jL89s8grI8FBcXa+TIkfr888/dy7KzszVs2DA1bdpULVq0UFlZmcd9srKylJSUpNDQUIWFhen++++XJJ+VB2/GX7Vqle6//36VlJT4ZJsAgOBRWFSsv8ycpcbh4Vq57m8aMXmK3+YSdOXh1KlT6tmzp6KjozV69Gj38pYtWyo5OVl5eXkaOHCgQkM9D/e49tpr1bJlS/f3hw8fVt++fdWoUSOfzMub8ceNG6fY2FjdeeedKi4u9sl2AQDB4au93+vlKZP00D1D9OLE8dr2zbd+m0vQlYcxY8aoefPmGjt2bKXbdu7cKUnq27fvOcdwuVxKTU3VCy+8UCtzPNf4kydPlsvlUnJycq1sGwBQN/W84QY5L79ckuQqK1Pvbr/321yC6myLNWvW6K9//av27t1b5e0bNmyQJPXq1euc4yQlJenBBx9UbGysz+fozfizZs3SjTfeqHvvvVddu3atlTkAAOqut9d8opmP/8Vv2w+qPQ/PPPOMoqOj1bFjxypvX7t2rRwOh2JjY5WRkaExY8Zo9OjRKigocK/z1ltvqUWLFho2bJgk1ejjg4o9C6NGjdKwYcO0ceNGS+N3795dTqdTr776quVtX0hpaWn+nkKdRn72kJ895GePP/N78+NVGtCrpzpceaXf5hA05SErK0s7duxQfHx8lbf/+OOPOnLkiO6++27t2rVLcXFxWrx4sV555RVt375d0pkDFj/44APdcsst+u6777Ru3TpNnTrV0jxOnjypfv36ac6cORoyZIhatmypu+66S0VFRZbG79Wrl15//XUVFhZaC+ICuueeexQWFqaZM2f6eyp1EvnZQ372kJ89tZlfQVGRvkxP9/jac+CAJGnN5s1qFB6u2+PidOpf/9L6//04/kILmvKwb98+SfI4KPFsW7ZskSRFRUVpxIgR2rx5s/uAyssuu0w7d+7UXXfdpRUrVqhz587q3Lmz+vbtqwEDBng9h/Lycg0YMEDp6elatWqVbr31Vm3atEnSmYtDWRm/Xbt2kqTMzEyvt3+hzZs3T/Xq1VNSUpLCw8P5JWQR+dlDfvaQnz21md/qTZt18x8SPb4Wr1ipbd98oyF/GaNhEyYqrOvv1bp3vCJat/bZdq0ImvLw66+/SpKaNGlS5e3r16+XJD333HN65ZVXdM0117gPoIyNjdWNN94oY0ylr549e3o9h5SUFO3YsUPTpk1zl5jU1FRlZGTopptusjR+xeM4cuSI19u/0EaMGKFGjRqppKRExcXFHi8iX53iGszIzx7ys4f87KnN/LZ8/bWWzpiuv7/7tuZNmqhbetyouePG6qbrrlPx1195fEVFRPjoEVkTNAdM1qtXT5KqvcjSJ598IkkaO3asevbsqcLCQm3cuFHx8fEKDw/3yRwWL14sSRo6dKh7WWRkZI3Gqng855KcnKykpKQajV8bKq5PMXXqVO3du1e/G+qbXGtTSEiIv6fgRn72kJ895GfPb/MbZmOsp//8qC5zOHTgp5/06ZYtSn3++UqXF/C3oNnzEPG/7Ss/P7/SbRkZGcrJyVFkZKTGjx8vSdqxY4ckVTpGIicnRx9++KF2795t6WqPZWVl2rp1q5xOp5o3b17tet6On/e/Vw7r3LlztetMmzatyr0ZF/Lr7MfaoEEDNWzYUMnJye4iFejIzx7ys4f87AnW/C5zOPTriRN6Ys7zej0pSY3Cw+xG5XNBUx4q3uFnZWVVuu2LL76QJI0fP15hYWd+CBXHQPTq1Us//fSTJOlvf/ub+vTpo1atWmn+/PlVXivi8OHDVRaU06dPS5KKiopkzP+VgqKiIqWnp3s9foWTJ0/K4XCobdu253/wfrJ06VIVFha6XzRJSUkqLi7WpEmT1KBBA39PL+CRnz3kZw/52VOb+eUXFmrU08/o5ckT1bzZZT6asW8FTXlo3bq1+vbt676Ww9kqlvXr18+9rOJAxjfffFMbN25UWVmZEhIS9NRTT6lHjx568cUXNXfuXPdxEZL03nvvKSIiQh06dFB2drbHNho2bKiBAwcqLy9PU6ZM0ffff6+VK1dqwIABKiws9Gr8s23evFm9e/e2nUtteuyxx1RWVubxooH3yM8e8rOH/OyprfxcrjLd8/gTKigq0nufrVVhUbEmvzhPb6/5xCfj+0rQlAdJevjhh3Xo0CH3mRcV1q5dq8jISLVv377SfaKiopSYmKjNmzcrJydHcXFxkiSHw6G4uDi9/fbb7nUrzoDIyclxf+xxtilTpsjhcOjZZ59Vp06dlJKSooULF6p79+5ejV8hMzNThw4d8ri8diBKTU1VSUkJv3RqiPzsIT97yM+e2srvL7Nma9fevTqee0rTFizUf44dp7Tt29Wq+RU+3Y5dgXUEhk2DBw9W//79NWXKFK1cudK9/Ld7CSRp+fLlcrlcatWqlaQz14GQJKfT6V6nbdu2OnjwoPv7uLg4nThxQrfddpu6d+9eacxu3bopNzdXBw4c0NVXX+1xIKY341eYPHmyEhMTPfaUBKLbbrvN31Oo08jPHvKzh/zsqa38po1+RPOnTFJISIjKy8t16MgRXXHZZWrWtGmtbK+mgmrPQ0hIiJYsWaKtW7cqJSXlnOteccUV7uIgSf/85z8lnfn4oUKjRo0q/fnupUuXqnv37mpdzbm1oaGhiomJqXQGh7fjp6SkaP/+/Zo7d+455w8ACD7Oyy93n0VyySWXKCoiIuCKgxRk5UGSWrRood27d+u1115TamqqpftJZw5wrFBQUOBxNG1OTo4kaeHChTWa1/nGT0lJ0aeffqpt27apWbNmlrcBAMCFEHTlQZLatGmj9evXWzpToVOnTpI8z9bIzMxUly5d3N87nU6NGTOmRucWezN+dHS03n77bTVu3Njy+AAAXChBWR6kM+fc3nTTTV6vf/311ysmJsb9x06OHj2qr7/+WgkJCT6Zjzfj9+jRI6AuegIAQFWC6oBJuz766CMNHz5c5eXlWrNmjd544w1de+21dWZ8AAAuBMrDWaKiorR9+3YdPnxYI0eOVP369evU+AAAXAiUhypcWct/I722xwcAoDYF7TEPAACgdlAeAACAJZQHAABgCeUBAABYQnkAAACWUB4AAIAllAcAAGAJ13lArVrx5Tx/T6FOIz97yM8e8rNn44xn/D2FWhNijDH+ngRwPi6XSyNGjNDSpUu5MmcNkJ895GcP+QUfPrZAnTBnzhytWLFCs2fP9vdU6iTys4f87CG/4MOeB9QJYWFhKikpUYMGDVRSUuLv6dQ55GcP+dlDfsGHPQ8IeDNmzHD/OyQkRNOnT/fjbOoe8rOH/Owhv+DEngcEvIp3LRV492IN+dlDfvaQX3BizwMC2tnvWirw7sV75GcP+dlDfsGLPQ8IaA0bNlRoaKiaNGminJwcOZ1O5efny+VyqbS01N/TC3jkZw/52UN+wYs9DwhY69atU3h4uBYtWqTs7GxJUnZ2thYtWqTGjRsrLS3NzzMMbORnD/nZQ37BjT0PqDNCQkLE07XmyM8e8rOH/IILex4AAIAllAcAAGAJ5QEAAFhCeQAAAJZQHgAAgCWUBwAAYAnlAQAAWEJ5AAAAllAeAACAJZQHAABgCeUBAABYQnkAAACWUB4AAIAllAcAAGAJ5QEAAFhCeQAAAJZQHgAAgCWUBwAAYAnlAQAAWEJ5AAAAllAeAACAJZQHAABgCeUBAABYQnkAAACWUB4AAIAllAcAAGAJ5QEAAFhCeQAAAJZQHgAAgCWUBwAAYEmIMcb4exIITk+vftjfUzivpwYs8vcUquXr/Da8s0t9/t8NPh2T/OwhP3sCOb+19w7y9xTO6/bUD2p831AfzgOoZEi3x/w9hWqt+HKev6dwXr7Mb0g3nw0lifzsIj976kJ+vSc/6e8pVGvjjGds3Z+PLQAAgCWUBwAAYAnlAQAAWEJ5AAAAllAeAACAJZQHAABgCeUBAABYQnmowrFjx5SRkVFnxwcAoDZRHs5y6tQpTZkyRW3atNHmzZvr3PgAAFwIQV0eqnt3f+LEiSqXh4WFaezYsbU2n/ONv3//fnG1cADAuRz46Sd9vGGjX+cQlOWhuLhYI0eO1Oeff+5elp2drWHDhqlp06Zq0aKFysrKKt0vPDxczZo1k9PprJV5nW/8VatW6f7771dJSUmtbB8AULd9s3+/Rj89XWnbt/t1HkFXHk6dOqWePXsqOjpao0ePdi9v2bKlkpOTlZeXp4EDByo0NPD+rMe4ceMUGxurO++8U8XFxf6eDgAgwFz3b/+me27r6+9pBF95GDNmjJo3b17lxwM7d+6UJPXt6//gqzN58mS5XC4lJyf7eyoAAFQp8N5+27BmzRr99a9/1d69e6u8fcOGDZKkXr16XchpWTZr1izdeOONuvfee9W1a1d/TwcAAA9BtefhmWeeUXR0tDp27Fjl7WvXrpXD4VBsbKwyMjI0ZswYjR49WgUFBT6dh8vlUmpqqkaNGqVhw4Zp40ZrB7Z0795dTqdTr776qk/n5Usul0vvvPNOlceOwDtpaWn+nkKdRn72kJ89F3t+QVMesrKytGPHDsXHx1d5+48//qgjR47o7rvv1q5duxQXF6fFixfrlVde0fazDjwxxqioqEjl5eU1msfJkyfVr18/zZkzR0OGDFHLli111113qaioyNL4vXr10uuvv67CwsIazaO21a9fX48//rgaNmyoCRMm+Hs6ddI999yjsLAwzZw5099TqZPIzx7ys6c28ysoKtKX6ekeX3sOHPD5duwImvKwb98+SWcOjKzKli1bJElRUVEaMWKENm/e7D6g8rLLLpN05mDLv/zlL8rLy9Nrr73mcbaGN8rLyzVgwAClp6dr1apVuvXWW7Vp0yZJUoMGDSyN365dO0lSZmampTlcSAsXLlRYWJjmzZunkJAQPfnkk/6eUp0yb9481atXT0lJSQoPD+eXuEXkZw/52VOb+a3etFk3/yHR42vxipWSpP0//qjla9dqy9e79ffv0n22TauC5piHX3/9VZLUpEmTKm9fv369JOm5557T6tWrdc0117gPoIyNjZUkNWvWTC+99JJeeumlGs0hJSVFO3bs0IIFC9wlJjU1VU2aNFG9evUsjV/xOI4cOaJrr722ynX++c9/au3atbrkkkvcX/Xq1fP4vqbLvblPr1691LRpU3f2zz33nGbOnKmnnnpKEydOrFGGF5MRI0Zo7Nix7uuOJCUlKTk5WdOmTdMTTzzh59kFPvKzh/zsqc38tnz9tZbOmK6OkVdrx7d79NGGDZo77sxJAP929dVa/z9v2J6/XUFTHurVqydJ1V5k6ZNPPpEkjR07Vj179lRhYaE2btyo+Ph4hYeH+2QOixcvliQNHTrUvSwyMrJGY1U8nnPJy8vTihUrVF5e7v46ffq0x/c1Xe7tfc4+pbTi+hQzZ87UkSNHFDEw8HdshYSE+HsKbhX5TZ06VXv37tXvhvrmeVmbyM8e8rMnkPMbZmOsp//8qC5zOHTgp5/06ZYtSn3++YC7vEBgzcaGiIgISVJ+fn6l2zIyMpSTk6PIyEiNHz9ekrRjxw5JqnSMRE5OjrZt26b27dvruuuu8/rJWVZWpq1bt8rpdKp58+bVruft+Hl5eZKkzp07VztWu3bt9N5773k1v9rStGlT97+bNGmi0NBQzZgxQw899JCe/exPfpyZd/x9Rc8WLVq437k0aNBAISEh7ncusz7/s1/n5g3ys4f87Ank/DYM+88aj3uZw6FfT5zQE3Oe15Jnnlaj8DBfTdlnAv+toZcq3uFnZWVVuu2LL76QJI0fP15hYWd+CBXHQPTq1Us//fSTJOlvf/ub+vTpo1atWmn+/PlVXivi8OHDVRaU06dPS5KKioo8ntBFRUVKT0/3evwKJ0+elMPhUNu2bc//4P3k5ZdfVnl5uRo3bqwrrrhCL774ok6dOqVRo0YFXEsOREuXLlVhYaEaNGighg0bKikpScXFxZo0aZIaNGjg7+kFPPKzh/zsqc388gsLNerpZ/Ty5Ilq3uwyH83Yt4KmPLRu3Vp9+/Z1X8vhbBXL+vXr515WcSDjm2++qY0bN6qsrEwJCQl66qmn1KNHD7344ouaO3eu+7gISXrvvfcUERGhDh06KDs722MbDRs21MCBA5WXl6cpU6bo+++/18qVKzVgwAAVFhZ6Nf7ZNm/erN69e9vOpTZNmTJF4eHhWrhwoU6cOKEHHnjA31OqUx577DGVlZV5/NKB98jPHvKzp7byc7nKdM/jT6igqEjvfbZWhUXFmvziPL295hOfjO8rQVMeJOnhhx/WoUOH3GdeVFi7dq0iIyPVvn37SveJiopSYmKiNm/erJycHMXFxUmSHA6H4uLi9Pbbb7vXrTgDIicnx/2xx9mmTJkih8OhZ599Vp06dVJKSooWLlyo7t27ezV+hczMTB06dMjj8tqBaO3atTp+/Lj+8Ic/+HsqdVJqaqpKSkr4pV1D5GcP+dlTW/n9ZdZs7dq7V8dzT2nagoX6z7HjlLZ9u1o1v8Kn27ErqPYtDx48WP3799eUKVO0cuVK9/Lf7iWQpOXLl8vlcqlVq1aSzlwHQpLHH61q27atDh7x0iHaAAAR+klEQVQ86P4+Li5OJ06c0G233abu3btXGrNbt27Kzc3VgQMHdPXVV3sciOnN+BUmT56sxMREjz0lgejf//3f/T2FOu22227z9xTqNPKzh/zsqa38po1+RPOnTFJISIjKy8t16MgRXXHZZWp21vFlgSCo9jyEhIRoyZIl2rp1q1JSUs657hVXXOEuDtKZ0x6lMx8/VGjUqFGlP9+9dOlSde/eXa1bt65y3NDQUMXExFQ6g8Pb8VNSUrR//37NnTv3nPMHAAQf5+WXuw+kv+SSSxQVERFwxUEKsvIgnTn6dffu3XrttdeUmppq6X6S3FeClKSCggKPMydycnIknbk4Uk3mdb7xU1JS9Omnn2rbtm1q1qyZ5W0AAHAhBF15kKQ2bdpo/fr1ls5U6NSpkyTPszUyMzPVpUsX9/dOp1Njxoyp0bnF3owfHR2tt99+W40bN7Y8PgAAF0pQlgfpzDm3N910k9frX3/99YqJiXH/sZOjR4/q66+/VkJCgk/m4834PXr0CKiLngAAUJWgOmDSro8++kjDhw9XeXm51qxZozfeeKPaS0MH4vgAAFwIlIezREVFafv27Tp8+LBGjhyp+vXr16nxAQC4ECgPVbjyyivr9PgAANSmoD3mAQAA1A7KAwAAsITyAAAALKE8AAAASygPAADAEsoDAACwhPIAAAAs4ToPqFUrvpzn7ynUaeRnD/nZQ372bJzxjL+nUGtCjDHG35MAzsflcmnEiBFaunQpV+asAfKzh/zsIb/gw8cWqBPmzJmjFStWaPbs2f6eSp1EfvaQnz3kF3zY84A6ISwsTCUlJWrQoIFKSkr8PZ06h/zsIT97yC/4sOcBAW/GjBnuf4eEhGj69Ol+nE3dQ372kJ895Bec2POAgFfxrqUC716sIT97yM8e8gtO7HlAQDv7XUsF3r14j/zsIT97yC94secBAa1hw4YKDQ1VkyZNlJOTI6fTqfz8fLlcLpWWlvp7egGP/OwhP3vIL3ix5wEBa926dQoPD9eiRYuUnZ0tScrOztaiRYvUuHFjpaWl+XmGgY387CE/e8gvuLHnAXVGSEiIeLrWHPnZQ372kF9wYc8DAACwhPIAAAAsoTwAAABLKA8AAMASygMAALCE8gAAACyhPAAAAEsoDwAAwBLKAwAAsITyAAAALKE8AAAASygPAADAEsoDAACwhPIAAAAsoTwAAABLKA8AAMASygMAALCE8gAAACyhPAAAAEsoDwAAwBLKAwAAsITyAAAALKE8AAAASygPAADAEsoDAACwhPIAAAAsoTwAAABLKA8AAMASygMAALCE8gAAACwJMcYYf08CwWnfp//p7ymcV8c73vP3FKpFfvaQnz3kh3MJ9fcEENw6/sd4f0+hWvu2zPb3FM6L/OwhP3vID9XhYwsAAGAJ5QEAAFhCeQAAAJZQHgAAgCWUBwAAYAnlAQAAWEJ5AAAAllAeAACAJZQHAABgCeUBAABYQnkAAACWUB4AAIAllAcAAGAJ5QEAAFhCeQAAAJZQHgAAgCWUBwAAYAnlAQAAWEJ5AAAAllAeAACAJZQHAABgCeUBAABYQnkAAACWUB4AAIAllAcAAGAJ5QEAAFhCeQAAAJZQHgAAgCWUBwAAYAnlAQAAWEJ5AAAAllAeAACAJZQHAABgCeUBAABYQnkAAACWUB4AAIAllAcAAGAJ5QEAAFgS6u8JILjt2zLb31Oo08jPHvKzh/xQnRBjjPH3JIDzcblcGjFihJYuXar69ev7ezp1DvnZQ372kF/w4WML1Alz5szRihUrNHs274RqgvzsIT97yC/4sOcBdUJYWJhKSkrUoEEDlZSU+Hs6dQ752UN+9pBf8GHPAwLejBkz3P8OCQnR9OnT/Tibuof87CE/e8gvOLHnAQGv4l1LBd69WEN+9pCfPeQXnNjzgIB29ruWCrx78R752UN+9pBf8GLPAwJaw4YNFRoaqiZNmignJ0dOp1P5+flyuVwqLS319/QCHvnZQ372kF/wYs8DAta6desUHh6uRYsWKTs7W5KUnZ2tRYsWqXHjxkpLS/PzDAMb+dlDfvaQX3BjzwPqjJCQEPF0rTnys4f87CG/4MKeBwAAYAnlAQAAWEJ5AAAAllAeAACAJZQHAABgCeUBAABYQnkAAACWUB4AAIAllAcAAGAJ5QEAAFhCeQAAAJZQHgAAgCWUBwAAYAnlAQAAWEJ5AAAAllAeAACAJZQHAABgCeUBAABYQnkAAACWUB4AAIAllAcAAGAJ5QEAAFhCeQAAAJZQHgAAgCWUBwAAYAnlAQAAWEJ5AAAAllAeAACAJZQHAABgCeUBAABYQnkAAACWUB4AAIAllAcAAGAJ5QEAAFhCeQAAAJZQHgAAgCWUBwAAYAnlAQAAWEJ5AAAAllAeAACAJfWSkpKS/D0JwBshISHq3bu3v6dRZ5GfPeRnD/kFlxBjjPH3JAAAQN3BxxYAAMASygMAALCE8gBcBPbs2ePvKQAIIpQHXBD5+flKTk7Wu+++67c5rF+/XmPGjNHJkyf9Ngd/KCgo0OjRo/09DdRhvH7xW5QH1Kry8nItW7ZMXbp0Ub169XTXXXdVuZ63x+16s15169x8883q0KGDrrvuOi1YsEAul8urbfqTP45n9uXP4kKxMhdfztvXWQVSphKvX1SP8oBas23bNvXo0UPr1q3Tpk2b9OSTT6pRo0bu2wsKCjR27Fh16dJFUVFRGj58uEaNGqWff/7ZY5yjR4/qD3/4gzp06KCoqCgNHjxYGRkZlba3YMEC/cd//IciIiLUr18/jR8/XqtXr3bfXr9+ff3pT3/SN998owMHDui6667TZ599VnsB1FB5ebnmz5+vDh066NJLL1W/fv20Y8cO9enTR/369VNpaalGjRqlPn36aPfu3ZKkX3/9Vbfccov69OmjXbt2ucd67rnndPvtt2vr1q3q06eP+2vSpEke2ywtLdWsWbPc24yNjdX//M//ePwif/fdd9WnTx+lpqaqX79+ioiIUJcuXfTRRx9dmGB+46WXXlKfPn304IMPqlWrVurTp48+/fRTxcbGKjY2Vjt27PBY/6233tINN9ygqKgoxcbGasGCBTp9+rTHOhW5zp8/X7m5uRo9erSuueYajRw5Unl5eZK8+/lI0vHjxzVy5Ei1bNlSrVq1Us+ePbV161aP7U2cOFG33HKL1qxZoxtuuMH9OH744YdaTM4753v9evP4pIvv9XvRMICP/fLLLyYhIcH06NHD7Ny5s9r1Jk2aZMaNG2f+9a9/GWOMOXjwoGnXrp356quv3OucOnXKREdHm5UrV7qXrVu3zkRGRprDhw+7l3366afm5ptvNkePHjXGGHP8+HEzaNAg88ILL1S7/e+//97cfvvtpn///mb//v01fry+NmvWLHPnnXeab7/91pSWlpoPPvjAOJ1Oc/PNN5vCwkJjjDHFxcVmzJgxZsOGDe77FRQUmAkTJpi0tDT3MpfLZY4dO2a6detm8vPz3V+lpaUe20xMTDQPPPCAOXjwoDHGmK+//trccccdZs6cOe51ysrKzOOPP24kme3btxtjjMnMzDROp9Pk5ubWWh7VcblcZsiQIWbQoEHG5XKZpKQk43A4zKFDh0x6errp37+/e9158+aZgQMHmpycHGOMMf/4xz9MYmKimTBhgseYxcXFZsOGDaZbt26mc+fO5p133jGlpaVm+fLl5pdffjHGePfzyc/PN9HR0WbevHnm+PHjprS01KSlpZnIyEh3dsYYU1JSYmJiYkznzp3N0aNHTXl5uVm9erXp2rVrbcdXLW9ev94+vovx9XuxoDzAp7KysozT6TRxcXHuX6TVee2118wdd9xhNm3aZE6dOmWMOfMLoaCgwL3OzJkzzcsvv1zpvsuXLzePPfaY+/vvvvvOREZGmtWrV7t/AWVnZ5uff/75nHNwuVxm0KBBxuFwmL1793r9OGvL6dOnjcPhMJmZmR7LZ86cafr27euxbNKkSR7lwRhjpk6d6lEejDnziz4uLq7abVaUtrNzN+bMz9LhcBiXy+VeNmHCBPPxxx97rPfYY4+ZjRs3nv/B1YL77rvPXXg+/vhj8/TTT7tvi4mJMcac+Q86MjLS5Ofne9zX5XKZmJgYc+zYMY/lf//7301kZKR73LN5+/NZsmSJSUhIqHT/1atXmzvuuMNjWdeuXc3Jkyc9lkVHR1cqeBeCt69fbx/fxfb6vZjwsQV8qk2bNjpw4IBuueUWXXfddXrrrbcq7Rqu8NBDD+nBBx/U+++/rwEDBqhly5b68MMPVb9+ffc66enp6tmzZ6X7xsXFeZxB0KlTJ7333nv64osv9NBDD6lly5aaMGGCx27WsxljtGrVKt1www1q3769MjIy1LFjR5uP3r5//OMfatGihSIjIz2W9+rVq9a2efDgQR05ckQ333yzbrjhBvfXnXfeqdatWysnJ8dj/UsvvdTj+8aNG/v1s/qQkBD3vy+5pPKvtB9//FHXX3+9Gjdu7LE8NDRUvXv31sGDByvdp3///oqKiqq03Nufzw8//OB+fp39NXXqVJWVlVUat2nTph7fX3rppX7J1NvXr7eP72J7/V5MQv09AQSfSy+9VMnJyXr44Yf19NNPa+7cuZo+fbr69evnsd62bds0ePBgDR48WNKZI7r/+Mc/6q233lJiYqIk6aqrrtIPP/ygzp07e9w3IyNDV111lfv7r776Stddd51+//vfS5LKyso0b948jRs3TkuWLPG479atWzVhwgS1b99eK1euVIcOHXyeQU1dfvnlys/P11dffeV+LJL0/vvv19o2o6Oj5XQ69cUXX1T7y7oua9u2rfbt26fy8vJK5WL//v1q06aN12N5+/Pp2LGjbr31Vq1cudLe5P3Am9evt4/vYnv9XkzY84Ba06ZNG73yyitatmyZXn31Vd1yyy0eB4LFxcV5vOtr0qSJWrRooYKCAveyESNG6Mknn/Q4wOro0aP685//rEceecS97L//+789TiMLDQ1V27ZtPcb65ZdfdPfdd2vq1Kl66aWX9NZbbwXkL56FCxdqxIgRWrZsmX744QclJyfrgw8+qPQO8He/+53HwZHr1q3TCy+8UGm8hg0b6tSpU8rPz3cvy8vLcx9s2aFDB916661KSkpyHxRYsc6rr76qEydO+PohXlBNmjRRr169lJycrPLycvfyBQsWqHHjxpafA978fAYPHqxvv/1W7733nsc78V9++UXz58+3/6AugHO9fr19fBfj6/ei4d9PTXAx2bp1q9m1a5f7++joaDN06FAzaNAgk5CQYGJiYswf//hHj8/YjTFm48aNJjo62gwZMsQMHTrUREZGmg8//NBjnYSEBJOQkGAGDhxoEhMTTdeuXc3tt9/u8Znpvn37Kh0PEKjWr19v7r33XhMXF2cmTJhgDhw4UOmYh7y8PBMTE2MGDRpkunbtauLj4829995r2rVrZ/bt2+ex7pIlS0xMTIxJTEw0d9xxh2nXrp1ZsGCBx1ijR482ksyQIUPMnXfeadq1a2cmTpxoSkpKjDHGTJw40TgcDtOuXTvzySefGGOMSUlJcS87cOBALafi6dlnnzWSTHR0tMnNzTWrVq0yDofDrFixwhhjjCQzcuRIY8yZg0lHjRrlfo5169bNDB061ONAz8zMTNOtWzcTHR1tHA6HiYmJMTExMZWOUTDGu59PZmam6d27t3E4HGb48OEmPj7eREZGmqVLl7rX6d27t5FkOnfubLKysowxxjz66KNGkomLizPl5eU+z62mfvv69ebxGXNxvn4vBvxhLPhdfn6+Dh06pJiYGIWGVv1JWllZmTIzM1VWVqbo6GiP4yJ+u97evXsVFRUVVLvgMzMz9cQTT+jDDz/0WG6MUXp6upxOp1q2bHnOMVwul9LT09WyZUu1bt3a41iBCv/617+UkZGh5s2b68orr6xynbrs1KlTOnTokCIiItSiRQufjVvdz0c6cxrtkSNHdNVVV6l58+Y+22ag8ObxXeyv32BEeQACXGlpqf7rv/5LN910k/70pz/5ezr4DX4+uBhxzAMQgLZs2aIuXbqoS5cuuvLKK9W+fXuPz4jhX/x8cLFjzwMQoCoOwKtXr56fZ4Kq8PPBxYzyAAAALOFjCwAAYAnlAQAAWPL/AaLo/YVQZYfjAAAAAA==)"
      ],
      "metadata": {
        "id": "GymqIYewsCTn"
      }
    },
    {
      "cell_type": "code",
      "source": [
        "# 디코더(Decoder) 아키텍처 정의\n",
        "class Decoder(nn.Module):\n",
        "    def __init__(self, output_dim, embed_dim, hidden_dim, n_layers, dropout_ratio):\n",
        "        super().__init__()\n",
        "\n",
        "        # 임베딩(embedding)은 원-핫 인코딩(one-hot encoding) 말고 특정 차원의 임베딩으로 매핑하는 레이어\n",
        "        self.embedding = nn.Embedding(output_dim, embed_dim)\n",
        "\n",
        "        # LSTM 레이어\n",
        "        self.hidden_dim = hidden_dim\n",
        "        self.n_layers = n_layers\n",
        "        self.rnn = nn.LSTM(embed_dim, hidden_dim, n_layers, dropout=dropout_ratio)\n",
        "\n",
        "        # FC 레이어 (인코더와 구조적으로 다른 부분)\n",
        "        self.output_dim = output_dim\n",
        "        self.fc_out = nn.Linear(hidden_dim, output_dim)\n",
        "\n",
        "        # 드롭아웃(dropout)\n",
        "        self.dropout = nn.Dropout(dropout_ratio)\n",
        "\n",
        "    # 디코더는 현재까지 출력된 문장에 대한 정보를 입력으로 받아 타겟 문장을 반환\n",
        "    def forward(self, input, hidden, cell):\n",
        "        # seq2seq는 항상 (1) 이전에 출력한 단어와 (2) 이전까지의 정보를 담은 hidden state가 입력으로 들어감\n",
        "        # 그러므로, 이전에 출력했던 모든 단어에 대한 것은 필요하지 않다.\n",
        "        # 디코더를 eos 가 나올 때까지 여러 번 forward해서 전체 문자열을 출력.\n",
        "\n",
        "        # input: [배치 크기]: 단어의 개수는 항상 1개이도록 구현\n",
        "        # hidden: [레이어 개수, 배치 크기, 히든 차원]\n",
        "        # cell = context: [레이어 개수, 배치 크기, 히든 차원]\n",
        "        input = input.unsqueeze(0)\n",
        "\n",
        "        # PyTorch에서 squeeze()는 차원 축소 (불필요한 차원 제거)\n",
        "        # PyTorch에서 unsqueeze()는 차원 늘리기 (크기가 1인 axis 추가)\n",
        "\n",
        "        # input: [단어 개수 = 1, 배치 크기]\n",
        "\n",
        "        embedded = self.dropout(self.embedding(input))\n",
        "        # embedded: [단어 개수, 배치 크기, 임베딩 차원]\n",
        "\n",
        "        output, (hidden, cell) = self.rnn(embedded, (hidden, cell))\n",
        "        # outputs: [단어 개수, 배치 크기, 히든 차원]: 현재 단어의 출력 정보\n",
        "        # hidden: [레이어 개수, 배치 크기, 히든 차원]: 현재까지의 모든 단어의 정보. 각 계층의 최종 hidden state\n",
        "        # cell: [레이어 개수, 배치 크기, 히든 차원]: 현재까지의 모든 단어의 정보. 각 계층의 최종 cell state\n",
        "\n",
        "        # 단어 개수는 어차피 1개이므로 차원 제거\n",
        "        prediction = self.fc_out(output.squeeze(0))\n",
        "        # prediction = [배치 크기, 출력 차원]\n",
        "\n",
        "        # (현재 출력 단어, 현재까지의 모든 단어의 정보, 현재까지의 모든 단어의 정보)\n",
        "        return prediction, hidden, cell"
      ],
      "metadata": {
        "id": "jo__s9l9sa_G"
      },
      "execution_count": 40,
      "outputs": []
    },
    {
      "cell_type": "markdown",
      "source": [
        "![seq2seq3.png](data:image/png;base64,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)"
      ],
      "metadata": {
        "id": "dXprTP1JtC_Y"
      }
    },
    {
      "cell_type": "code",
      "source": [
        "class Seq2Seq(nn.Module):\n",
        "    def __init__(self, encoder, decoder, device):\n",
        "        super().__init__()\n",
        "\n",
        "        self.encoder = encoder\n",
        "        self.decoder = decoder\n",
        "        self.device = device\n",
        "\n",
        "    # 학습할 때는 완전한 형태의 소스 문장, 타겟 문장, teacher_forcing_ratio 를 넣기\n",
        "    def forward(self, src, trg, teacher_forcing_ratio=0.5):\n",
        "        # src: [단어 개수, 배치 크기]\n",
        "        # trg: [단어 개수, 배치 크기]\n",
        "        # 먼저 인코더를 거쳐 문맥 벡터(context vector)를 추출\n",
        "        hidden, cell = self.encoder(src)\n",
        "\n",
        "        # 디코더(decoder)의 최종 결과를 담을 텐서 객체 만들기\n",
        "        trg_len = trg.shape[0] # 단어 개수\n",
        "        batch_size = trg.shape[1] # 배치 크기\n",
        "        trg_vocab_size = self.decoder.output_dim # 출력 차원\n",
        "        outputs = torch.zeros(trg_len, batch_size, trg_vocab_size).to(self.device)\n",
        "\n",
        "        # 첫 번째 입력은 항상 토큰\n",
        "        input = trg[0, :]\n",
        "\n",
        "        # 타겟 단어의 개수만큼 반복하여 디코더에 포워딩(forwarding)\n",
        "        for t in range(1, trg_len):\n",
        "            # eos 가 나올 때까지 재귀적으로 사용\n",
        "            output, hidden, cell = self.decoder(input, hidden, cell)\n",
        "\n",
        "            outputs[t] = output # FC를 거쳐서 나온 현재의 출력 단어 정보\n",
        "            top1 = output.argmax(1) # 가장 확률이 높은 단어의 인덱스 추출\n",
        "\n",
        "            # 현재 구조상, 만약에 디코더 입장에서 이전 단어가 틀리면, 앞으로의 단어도 계속 틀릴 가능성이 매우 높음\n",
        "            #  => 이 상태로 그대로 학습하면, 너무 많이 틀려서 loss가 과도하게 커짐\n",
        "            # \"그래서, 강제로 특정 확률에 해당할 때는 \"앞으로의 단어\"를 고정해서 정답으로 알려주는 방법을 사용\" (teacher forcing 방법)\n",
        "\n",
        "            # teacher_forcing_ratio: 학습할 때 실제 목표 출력(ground-truth)을 사용하는 비율\n",
        "            teacher_force = random.random() < teacher_forcing_ratio # random.random()은 [0, 1] uniform하게 값을 뽑음 => 평균 0.5\n",
        "\n",
        "            # teacher_force => recursive 도중에 정답 자체를 교정\n",
        "            # 만약 teacher_force의 값이 True라면, 강제로 \"정답\"을 다음 입력으로 넣어준다. (강제로 정답을 맞추도록 forcing)\n",
        "            input = trg[t] if teacher_force else top1 # 현재의 출력 결과를 다음 입력에서 넣기\n",
        "\n",
        "        return outputs"
      ],
      "metadata": {
        "id": "dkqp22G2tKSh"
      },
      "execution_count": 41,
      "outputs": []
    },
    {
      "cell_type": "markdown",
      "source": [
        "![seq2seq4.png](data:image/png;base64,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)"
      ],
      "metadata": {
        "id": "GF0KlewTtpf7"
      }
    },
    {
      "cell_type": "markdown",
      "source": [
        "\n",
        "### **Training the Seq2Seq Model**\n",
        "---\n"
      ],
      "metadata": {
        "id": "JvlI9hI9t02b"
      }
    },
    {
      "cell_type": "code",
      "source": [
        "# 모델 초기화\n",
        "\n",
        "# 입력과 출력 차원은 어휘의 전체 크기가 결정\n",
        "INPUT_DIM = len(SRC.vocab)\n",
        "OUTPUT_DIM = len(TRG.vocab)\n",
        "ENCODER_EMBED_DIM = 256 # 각 토큰(단어)가 표현되는 차원\n",
        "DECODER_EMBED_DIM = 256 # 각 토큰(단어)가 표현되는 차원\n",
        "HIDDEN_DIM = 512 # LSTM 내부에서 사용되는 hidden vector의 차원\n",
        "N_LAYERS = 2 # LSTM을 얼마나 높게 쌓을 것인지\n",
        "ENC_DROPOUT_RATIO = 0.5 # dropout => 모델 성능 향상 기법 중 하나\n",
        "DEC_DROPOUT_RATIO = 0.5 # dropout => 모델 성능 향상 기법 중 하나"
      ],
      "metadata": {
        "id": "QvvMwP6EtsJx"
      },
      "execution_count": 42,
      "outputs": []
    },
    {
      "cell_type": "code",
      "source": [
        "# 인코더(encoder)와 디코더(decoder) 객체 선언\n",
        "enc = Encoder(INPUT_DIM, ENCODER_EMBED_DIM, HIDDEN_DIM, N_LAYERS, ENC_DROPOUT_RATIO)\n",
        "dec = Decoder(OUTPUT_DIM, DECODER_EMBED_DIM, HIDDEN_DIM, N_LAYERS, DEC_DROPOUT_RATIO)\n",
        "\n",
        "# Seq2Seq 객체 선언\n",
        "model = Seq2Seq(enc, dec, device).to(device)"
      ],
      "metadata": {
        "id": "rsan3eDtuJ5w"
      },
      "execution_count": 43,
      "outputs": []
    },
    {
      "cell_type": "code",
      "source": [
        "# 모델 가중치 초기화\n",
        "# 논문에서 -0.08 ~ 0.08 사이의 균일한 분포에서 모든 가중치를 초기화한다고 함.\n",
        "# 논문의 내용대로 모델에 적용시키는 init_weights 함수를 정의한다.\n",
        "# 함수는 모델 내의 모든/하위 모듈에서 호출되고, 각 모듈에 대해 모든 매개변수를 순환시키고 균일 분포에서 표본을 추출 (with nn.init.uniform_)\n",
        "\n",
        "def init_weights(m):\n",
        "    for name, param in m.named_parameters():\n",
        "        nn.init.uniform_(param.data, -0.08, 0.08)\n",
        "\n",
        "model.apply(init_weights)"
      ],
      "metadata": {
        "colab": {
          "base_uri": "https://localhost:8080/"
        },
        "id": "wEfkI-jduNy1",
        "outputId": "2f52ea61-5121-4c4c-9b1b-ee548de30e6c"
      },
      "execution_count": 44,
      "outputs": [
        {
          "output_type": "execute_result",
          "data": {
            "text/plain": [
              "Seq2Seq(\n",
              "  (encoder): Encoder(\n",
              "    (embedding): Embedding(7853, 256)\n",
              "    (rnn): LSTM(256, 512, num_layers=2, dropout=0.5)\n",
              "    (dropout): Dropout(p=0.5, inplace=False)\n",
              "  )\n",
              "  (decoder): Decoder(\n",
              "    (embedding): Embedding(5893, 256)\n",
              "    (rnn): LSTM(256, 512, num_layers=2, dropout=0.5)\n",
              "    (fc_out): Linear(in_features=512, out_features=5893, bias=True)\n",
              "    (dropout): Dropout(p=0.5, inplace=False)\n",
              "  )\n",
              ")"
            ]
          },
          "metadata": {},
          "execution_count": 44
        }
      ]
    },
    {
      "cell_type": "code",
      "source": [
        "import torch.optim as optim\n",
        "\n",
        "# Adam optimizer로 학습 최적화\n",
        "optimizer = optim.Adam(model.parameters())\n",
        "\n",
        "# 뒷 부분의 패딩(padding)에 대해서는 값 무시\n",
        "TRG_PAD_IDX = TRG.vocab.stoi[TRG.pad_token]\n",
        "criterion = nn.CrossEntropyLoss(ignore_index=TRG_PAD_IDX)"
      ],
      "metadata": {
        "id": "-b6LY0yWu57g"
      },
      "execution_count": 45,
      "outputs": []
    },
    {
      "cell_type": "code",
      "source": [
        "# 모델 학습(train) 함수\n",
        "def train(model, iterator, optimizer, criterion, clip):\n",
        "    model.train() # 학습 모드\n",
        "    epoch_loss = 0\n",
        "\n",
        "    # 전체 학습 데이터를 확인하며\n",
        "    for i, batch in enumerate(iterator):\n",
        "        src = batch.src\n",
        "        trg = batch.trg\n",
        "\n",
        "        optimizer.zero_grad()\n",
        "\n",
        "        output = model(src, trg)\n",
        "        # output: [출력 단어 개수, 배치 크기, 출력 차원]\n",
        "        output_dim = output.shape[-1]\n",
        "\n",
        "        # 출력 단어의 인덱스 0은 사용하지 않음\n",
        "        output = output[1:].view(-1, output_dim)\n",
        "        # output = [(출력 단어의 개수 - 1) * batch size, output dim]\n",
        "        trg = trg[1:].view(-1)\n",
        "        # trg = [(타겟 단어의 개수 - 1) * batch size]\n",
        "\n",
        "        # 모델의 출력 결과와 타겟 문장을 비교하여 손실 계산\n",
        "        loss = criterion(output, trg)\n",
        "        loss.backward() # 기울기(gradient) 계산\n",
        "\n",
        "        # 기울기(gradient) clipping 진행\n",
        "        torch.nn.utils.clip_grad_norm_(model.parameters(), clip)\n",
        "\n",
        "        # 파라미터 업데이트\n",
        "        optimizer.step()\n",
        "\n",
        "        # 전체 손실 값 계산\n",
        "        epoch_loss += loss.item()\n",
        "\n",
        "    return epoch_loss / len(iterator)"
      ],
      "metadata": {
        "id": "8W7bqH9Gu_K-"
      },
      "execution_count": 46,
      "outputs": []
    },
    {
      "cell_type": "code",
      "source": [
        "# 모델 평가(evaluate) 함수\n",
        "def evaluate(model, iterator, criterion):\n",
        "    model.eval() # 평가 모드 -> dropout이 꺼진다\n",
        "    epoch_loss = 0\n",
        "\n",
        "    # torch.no_grad() => 이 안에 들어가는 모델 및 입력에 대해서는 \"기울기 추적\"을 하지 않음. 메모리 사용량이 줄고 속도가 빨라진다.\n",
        "    # (inference = 학습된 모델을 추론할 때 / 쓸 때만 사용)\n",
        "    with torch.no_grad():\n",
        "        # 전체 평가 데이터를 확인하며\n",
        "        for i, batch in enumerate(iterator):\n",
        "            src = batch.src\n",
        "            trg = batch.trg\n",
        "\n",
        "            # 평가할 때 teacher forcing는 사용하지 않음\n",
        "            output = model(src, trg, 0)\n",
        "            # output: [출력 단어 개수, 배치 크기, 출력 차원]\n",
        "            output_dim = output.shape[-1]\n",
        "\n",
        "            # 출력 단어의 인덱스 0은 사용하지 않음\n",
        "            output = output[1:].view(-1, output_dim)\n",
        "            # output = [(출력 단어의 개수 - 1) * batch size, output dim]\n",
        "            trg = trg[1:].view(-1)\n",
        "            # trg = [(타겟 단어의 개수 - 1) * batch size]\n",
        "\n",
        "            # 모델의 출력 결과와 타겟 문장을 비교하여 손실 계산\n",
        "            loss = criterion(output, trg)\n",
        "\n",
        "            # 전체 손실 값 계산\n",
        "            epoch_loss += loss.item()\n",
        "\n",
        "    return epoch_loss / len(iterator)"
      ],
      "metadata": {
        "id": "xq-ovoKavBO6"
      },
      "execution_count": 47,
      "outputs": []
    },
    {
      "cell_type": "code",
      "source": [
        "# epoch 당 소요시간 측정 함수\n",
        "def epoch_time(start_time, end_time):\n",
        "    elapsed_time = end_time - start_time\n",
        "    elapsed_mins = int(elapsed_time / 60)\n",
        "    elapsed_secs = int(elapsed_time - (elapsed_mins * 60))\n",
        "    return elapsed_mins, elapsed_secs"
      ],
      "metadata": {
        "id": "sYw-FajJvDfm"
      },
      "execution_count": 48,
      "outputs": []
    },
    {
      "cell_type": "code",
      "source": [
        "N_EPOCHS = 10\n",
        "CLIP = 1\n",
        "best_valid_loss = float('inf')\n",
        "\n",
        "for epoch in range(N_EPOCHS):\n",
        "    start_time = time.time() # 시작 시간 기록\n",
        "\n",
        "    train_loss = train(model, train_iterator, optimizer, criterion, CLIP)\n",
        "    valid_loss = evaluate(model, valid_iterator, criterion)\n",
        "\n",
        "    end_time = time.time() # 종료 시간 기록\n",
        "    epoch_mins, epoch_secs = epoch_time(start_time, end_time)\n",
        "\n",
        "    if valid_loss < best_valid_loss:\n",
        "        best_valid_loss = valid_loss\n",
        "        torch.save(model.state_dict(), 'seq2seq.pt')\n",
        "\n",
        "    print(f'Epoch: {epoch + 1:02} | Time: {epoch_mins}m {epoch_secs}s')\n",
        "    print(f'\\tTrain Loss: {train_loss:.3f} | Train PPL: {math.exp(train_loss):.3f}')\n",
        "    print(f'\\tValidation Loss: {valid_loss:.3f} | Validation PPL: {math.exp(valid_loss):.3f}')"
      ],
      "metadata": {
        "colab": {
          "base_uri": "https://localhost:8080/"
        },
        "id": "sRFvverGvJHr",
        "outputId": "91467a27-3d69-4062-fb79-29461783169a"
      },
      "execution_count": 49,
      "outputs": [
        {
          "output_type": "stream",
          "name": "stdout",
          "text": [
            "Epoch: 01 | Time: 0m 43s\n",
            "\tTrain Loss: 5.050 | Train PPL: 156.041\n",
            "\tValidation Loss: 4.935 | Validation PPL: 139.008\n",
            "Epoch: 02 | Time: 0m 41s\n",
            "\tTrain Loss: 4.502 | Train PPL: 90.167\n",
            "\tValidation Loss: 4.826 | Validation PPL: 124.744\n",
            "Epoch: 03 | Time: 0m 42s\n",
            "\tTrain Loss: 4.213 | Train PPL: 67.552\n",
            "\tValidation Loss: 4.690 | Validation PPL: 108.842\n",
            "Epoch: 04 | Time: 0m 40s\n",
            "\tTrain Loss: 4.005 | Train PPL: 54.860\n",
            "\tValidation Loss: 4.615 | Validation PPL: 100.942\n",
            "Epoch: 05 | Time: 0m 41s\n",
            "\tTrain Loss: 3.838 | Train PPL: 46.435\n",
            "\tValidation Loss: 4.345 | Validation PPL: 77.097\n",
            "Epoch: 06 | Time: 0m 41s\n",
            "\tTrain Loss: 3.682 | Train PPL: 39.738\n",
            "\tValidation Loss: 4.281 | Validation PPL: 72.295\n",
            "Epoch: 07 | Time: 0m 41s\n",
            "\tTrain Loss: 3.549 | Train PPL: 34.789\n",
            "\tValidation Loss: 4.105 | Validation PPL: 60.631\n",
            "Epoch: 08 | Time: 0m 42s\n",
            "\tTrain Loss: 3.379 | Train PPL: 29.329\n",
            "\tValidation Loss: 4.121 | Validation PPL: 61.600\n",
            "Epoch: 09 | Time: 0m 45s\n",
            "\tTrain Loss: 3.271 | Train PPL: 26.348\n",
            "\tValidation Loss: 4.006 | Validation PPL: 54.934\n",
            "Epoch: 10 | Time: 0m 43s\n",
            "\tTrain Loss: 3.155 | Train PPL: 23.455\n",
            "\tValidation Loss: 3.979 | Validation PPL: 53.454\n"
          ]
        }
      ]
    },
    {
      "cell_type": "code",
      "source": [
        "model.load_state_dict(torch.load('seq2seq.pt'))\n",
        "\n",
        "# text 데이터를 정상으로 불러왔다면 가장 좋은 validation loss 를 기록한 모델(state_dict)을 불러와 성능 측정할 수 있음\n",
        "# test_loss = evaluate(model, test_iterator, criterion)\n",
        "# print(f'| Test Loss: {test_loss:.3f} | Test PPL: {math.exp(test_loss):7.3f} |')\n",
        "\n",
        "# test 데이터가 없는 상황이므로, 제일 잘 학습된 validation model 을 확인하고 마무리\n",
        "valid_loss = evaluate(model, valid_iterator, criterion)\n",
        "print(f'| Validation Loss: {valid_loss:.3f} | Test PPL: {math.exp(valid_loss):7.3f} |')"
      ],
      "metadata": {
        "colab": {
          "base_uri": "https://localhost:8080/"
        },
        "id": "C5NFxiGvvRsK",
        "outputId": "fff6c6ab-ec56-4fc8-d028-a8560a420fba"
      },
      "execution_count": 51,
      "outputs": [
        {
          "output_type": "stream",
          "name": "stdout",
          "text": [
            "| Validation Loss: 3.979 | Test PPL:  53.454 |\n"
          ]
        }
      ]
    }
  ]
}